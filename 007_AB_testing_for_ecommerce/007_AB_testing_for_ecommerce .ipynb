{
 "cells": [
  {
   "cell_type": "markdown",
   "metadata": {},
   "source": [
    "# Самостоятельный проект по спринту \"Принятие решений в бизнесе\"\n",
    "\n",
    "\n",
    "Цель проекта - проанализировать список гипотез, чтобы увеличить выручку компании.\n",
    "\n",
    "\n",
    "**Описание проекта**\n",
    "\n",
    "Вы — аналитик крупного интернет-магазина. Вместе с отделом маркетинга вы подготовили список гипотез для увеличения выручки.\n",
    "Приоритизируйте гипотезы, запустите A/B-тест и проанализируйте результаты. \n",
    "\n",
    "\n",
    "Описание данных\n",
    "Данные для первой части проекта\n",
    "\n",
    "Файл `/datasets/hypothesis.csv`.\n",
    "\n",
    "    `Hypothesis` — краткое описание гипотезы;\n",
    "    `Reach — охват` пользователей по 10-балльной шкале;\n",
    "    `Impact` — влияние на пользователей по 10-балльной шкале;\n",
    "    `Confidence` — уверенность в гипотезе по 10-балльной шкале;\n",
    "    `Efforts` — затраты ресурсов на проверку гипотезы по 10-балльной шкале. Чем больше значение Efforts, тем дороже проверка гипотезы.\n",
    "\n",
    "Данные для второй части проекта\n",
    "\n",
    "Файл `datasets/orders.csv`.\n",
    "\n",
    "    `transactionId` — идентификатор заказа;\n",
    "    `visitorId` — идентификатор пользователя, совершившего заказ;\n",
    "    `date` — дата, когда был совершён заказ;\n",
    "    `revenue` — выручка заказа;\n",
    "    `group` — группа A/B-теста, в которую попал заказ.\n",
    "\n",
    "Файл `/datasets/visitors.csv`.\n",
    "\n",
    "    `date` — дата;\n",
    "    `group` — группа A/B-теста;\n",
    "    `visitors` — количество пользователей в указанную дату в указанной группе A/B-теста\n",
    "\n",
    "\n",
    "\n",
    "# Часть 1. Приоритизация гипотез\n",
    "\n",
    "\n",
    "Задачи в первой части:\n",
    "\n",
    "\n",
    "- Примените фреймворк ICE для приоритизации гипотез. Отсортируйте их по убыванию приоритета.\n",
    "- Примените фреймворк RICE для приоритизации гипотез. Отсортируйте их по убыванию приоритета.\n",
    "- Укажите, как изменилась приоритизация гипотез при применении RICE вместо ICE. Объясните, почему так произошло."
   ]
  },
  {
   "cell_type": "code",
   "execution_count": 2,
   "metadata": {},
   "outputs": [],
   "source": [
    "import pandas as pd\n",
    "import datetime as dt\n",
    "import numpy as np\n",
    "import matplotlib.pyplot as plt\n",
    "from pandas.plotting import register_matplotlib_converters\n",
    "import warnings\n",
    "import scipy.stats as stats\n",
    "from matplotlib.pyplot import figure\n",
    "import matplotlib.pyplot as plt"
   ]
  },
  {
   "cell_type": "code",
   "execution_count": 3,
   "metadata": {},
   "outputs": [],
   "source": [
    "# все числа типа float отображаются в формате .хх (два знака после запятой)\n",
    "pd.options.display.float_format = '{:.2f}'.format "
   ]
  },
  {
   "cell_type": "code",
   "execution_count": 4,
   "metadata": {},
   "outputs": [],
   "source": [
    "data = pd.read_csv('/datasets/hypothesis.csv') # чтение файла с данными и сохранение в data"
   ]
  },
  {
   "cell_type": "code",
   "execution_count": 5,
   "metadata": {},
   "outputs": [
    {
     "data": {
      "text/html": [
       "<div>\n",
       "<style scoped>\n",
       "    .dataframe tbody tr th:only-of-type {\n",
       "        vertical-align: middle;\n",
       "    }\n",
       "\n",
       "    .dataframe tbody tr th {\n",
       "        vertical-align: top;\n",
       "    }\n",
       "\n",
       "    .dataframe thead th {\n",
       "        text-align: right;\n",
       "    }\n",
       "</style>\n",
       "<table border=\"1\" class=\"dataframe\">\n",
       "  <thead>\n",
       "    <tr style=\"text-align: right;\">\n",
       "      <th></th>\n",
       "      <th>Hypothesis</th>\n",
       "      <th>Reach</th>\n",
       "      <th>Impact</th>\n",
       "      <th>Confidence</th>\n",
       "      <th>Efforts</th>\n",
       "    </tr>\n",
       "  </thead>\n",
       "  <tbody>\n",
       "    <tr>\n",
       "      <th>0</th>\n",
       "      <td>Добавить два новых канала привлечения трафика,...</td>\n",
       "      <td>3</td>\n",
       "      <td>10</td>\n",
       "      <td>8</td>\n",
       "      <td>6</td>\n",
       "    </tr>\n",
       "    <tr>\n",
       "      <th>1</th>\n",
       "      <td>Запустить собственную службу доставки, что сок...</td>\n",
       "      <td>2</td>\n",
       "      <td>5</td>\n",
       "      <td>4</td>\n",
       "      <td>10</td>\n",
       "    </tr>\n",
       "    <tr>\n",
       "      <th>2</th>\n",
       "      <td>Добавить блоки рекомендаций товаров на сайт ин...</td>\n",
       "      <td>8</td>\n",
       "      <td>3</td>\n",
       "      <td>7</td>\n",
       "      <td>3</td>\n",
       "    </tr>\n",
       "    <tr>\n",
       "      <th>3</th>\n",
       "      <td>Изменить структура категорий, что увеличит кон...</td>\n",
       "      <td>8</td>\n",
       "      <td>3</td>\n",
       "      <td>3</td>\n",
       "      <td>8</td>\n",
       "    </tr>\n",
       "    <tr>\n",
       "      <th>4</th>\n",
       "      <td>Изменить цвет фона главной страницы, чтобы уве...</td>\n",
       "      <td>3</td>\n",
       "      <td>1</td>\n",
       "      <td>1</td>\n",
       "      <td>1</td>\n",
       "    </tr>\n",
       "    <tr>\n",
       "      <th>5</th>\n",
       "      <td>Добавить страницу отзывов клиентов о магазине,...</td>\n",
       "      <td>3</td>\n",
       "      <td>2</td>\n",
       "      <td>2</td>\n",
       "      <td>3</td>\n",
       "    </tr>\n",
       "    <tr>\n",
       "      <th>6</th>\n",
       "      <td>Показать на главной странице баннеры с актуаль...</td>\n",
       "      <td>5</td>\n",
       "      <td>3</td>\n",
       "      <td>8</td>\n",
       "      <td>3</td>\n",
       "    </tr>\n",
       "    <tr>\n",
       "      <th>7</th>\n",
       "      <td>Добавить форму подписки на все основные страни...</td>\n",
       "      <td>10</td>\n",
       "      <td>7</td>\n",
       "      <td>8</td>\n",
       "      <td>5</td>\n",
       "    </tr>\n",
       "    <tr>\n",
       "      <th>8</th>\n",
       "      <td>Запустить акцию, дающую скидку на товар в день...</td>\n",
       "      <td>1</td>\n",
       "      <td>9</td>\n",
       "      <td>9</td>\n",
       "      <td>5</td>\n",
       "    </tr>\n",
       "  </tbody>\n",
       "</table>\n",
       "</div>"
      ],
      "text/plain": [
       "                                          Hypothesis  Reach  Impact  \\\n",
       "0  Добавить два новых канала привлечения трафика,...      3      10   \n",
       "1  Запустить собственную службу доставки, что сок...      2       5   \n",
       "2  Добавить блоки рекомендаций товаров на сайт ин...      8       3   \n",
       "3  Изменить структура категорий, что увеличит кон...      8       3   \n",
       "4  Изменить цвет фона главной страницы, чтобы уве...      3       1   \n",
       "5  Добавить страницу отзывов клиентов о магазине,...      3       2   \n",
       "6  Показать на главной странице баннеры с актуаль...      5       3   \n",
       "7  Добавить форму подписки на все основные страни...     10       7   \n",
       "8  Запустить акцию, дающую скидку на товар в день...      1       9   \n",
       "\n",
       "   Confidence  Efforts  \n",
       "0           8        6  \n",
       "1           4       10  \n",
       "2           7        3  \n",
       "3           3        8  \n",
       "4           1        1  \n",
       "5           2        3  \n",
       "6           8        3  \n",
       "7           8        5  \n",
       "8           9        5  "
      ]
     },
     "execution_count": 5,
     "metadata": {},
     "output_type": "execute_result"
    }
   ],
   "source": [
    "data"
   ]
  },
  {
   "cell_type": "code",
   "execution_count": 6,
   "metadata": {},
   "outputs": [
    {
     "data": {
      "text/html": [
       "<style  type=\"text/css\" >\n",
       "#T_0fd70_row0_col0,#T_0fd70_row0_col1,#T_0fd70_row0_col2,#T_0fd70_row0_col3,#T_0fd70_row0_col4,#T_0fd70_row1_col0,#T_0fd70_row1_col1,#T_0fd70_row1_col2,#T_0fd70_row1_col3,#T_0fd70_row1_col4,#T_0fd70_row2_col0,#T_0fd70_row2_col1,#T_0fd70_row2_col2,#T_0fd70_row2_col3,#T_0fd70_row2_col4,#T_0fd70_row3_col0,#T_0fd70_row3_col1,#T_0fd70_row3_col2,#T_0fd70_row3_col3,#T_0fd70_row3_col4,#T_0fd70_row4_col0,#T_0fd70_row4_col1,#T_0fd70_row4_col2,#T_0fd70_row4_col3,#T_0fd70_row4_col4,#T_0fd70_row5_col0,#T_0fd70_row5_col1,#T_0fd70_row5_col2,#T_0fd70_row5_col3,#T_0fd70_row5_col4,#T_0fd70_row6_col0,#T_0fd70_row6_col1,#T_0fd70_row6_col2,#T_0fd70_row6_col3,#T_0fd70_row6_col4,#T_0fd70_row7_col0,#T_0fd70_row7_col1,#T_0fd70_row7_col2,#T_0fd70_row7_col3,#T_0fd70_row7_col4,#T_0fd70_row8_col0,#T_0fd70_row8_col1,#T_0fd70_row8_col2,#T_0fd70_row8_col3,#T_0fd70_row8_col4{\n",
       "            text-align:  left;\n",
       "        }</style><table id=\"T_0fd70_\" ><thead>    <tr>        <th class=\"blank level0\" ></th>        <th class=\"col_heading level0 col0\" >Hypothesis</th>        <th class=\"col_heading level0 col1\" >Reach</th>        <th class=\"col_heading level0 col2\" >Impact</th>        <th class=\"col_heading level0 col3\" >Confidence</th>        <th class=\"col_heading level0 col4\" >Efforts</th>    </tr></thead><tbody>\n",
       "                <tr>\n",
       "                        <th id=\"T_0fd70_level0_row0\" class=\"row_heading level0 row0\" >0</th>\n",
       "                        <td id=\"T_0fd70_row0_col0\" class=\"data row0 col0\" >Добавить два новых канала привлечения трафика, что позволит привлекать на 30% больше пользователей</td>\n",
       "                        <td id=\"T_0fd70_row0_col1\" class=\"data row0 col1\" >3</td>\n",
       "                        <td id=\"T_0fd70_row0_col2\" class=\"data row0 col2\" >10</td>\n",
       "                        <td id=\"T_0fd70_row0_col3\" class=\"data row0 col3\" >8</td>\n",
       "                        <td id=\"T_0fd70_row0_col4\" class=\"data row0 col4\" >6</td>\n",
       "            </tr>\n",
       "            <tr>\n",
       "                        <th id=\"T_0fd70_level0_row1\" class=\"row_heading level0 row1\" >1</th>\n",
       "                        <td id=\"T_0fd70_row1_col0\" class=\"data row1 col0\" >Запустить собственную службу доставки, что сократит срок доставки заказов</td>\n",
       "                        <td id=\"T_0fd70_row1_col1\" class=\"data row1 col1\" >2</td>\n",
       "                        <td id=\"T_0fd70_row1_col2\" class=\"data row1 col2\" >5</td>\n",
       "                        <td id=\"T_0fd70_row1_col3\" class=\"data row1 col3\" >4</td>\n",
       "                        <td id=\"T_0fd70_row1_col4\" class=\"data row1 col4\" >10</td>\n",
       "            </tr>\n",
       "            <tr>\n",
       "                        <th id=\"T_0fd70_level0_row2\" class=\"row_heading level0 row2\" >2</th>\n",
       "                        <td id=\"T_0fd70_row2_col0\" class=\"data row2 col0\" >Добавить блоки рекомендаций товаров на сайт интернет магазина, чтобы повысить конверсию и средний чек заказа</td>\n",
       "                        <td id=\"T_0fd70_row2_col1\" class=\"data row2 col1\" >8</td>\n",
       "                        <td id=\"T_0fd70_row2_col2\" class=\"data row2 col2\" >3</td>\n",
       "                        <td id=\"T_0fd70_row2_col3\" class=\"data row2 col3\" >7</td>\n",
       "                        <td id=\"T_0fd70_row2_col4\" class=\"data row2 col4\" >3</td>\n",
       "            </tr>\n",
       "            <tr>\n",
       "                        <th id=\"T_0fd70_level0_row3\" class=\"row_heading level0 row3\" >3</th>\n",
       "                        <td id=\"T_0fd70_row3_col0\" class=\"data row3 col0\" >Изменить структура категорий, что увеличит конверсию, т.к. пользователи быстрее найдут нужный товар</td>\n",
       "                        <td id=\"T_0fd70_row3_col1\" class=\"data row3 col1\" >8</td>\n",
       "                        <td id=\"T_0fd70_row3_col2\" class=\"data row3 col2\" >3</td>\n",
       "                        <td id=\"T_0fd70_row3_col3\" class=\"data row3 col3\" >3</td>\n",
       "                        <td id=\"T_0fd70_row3_col4\" class=\"data row3 col4\" >8</td>\n",
       "            </tr>\n",
       "            <tr>\n",
       "                        <th id=\"T_0fd70_level0_row4\" class=\"row_heading level0 row4\" >4</th>\n",
       "                        <td id=\"T_0fd70_row4_col0\" class=\"data row4 col0\" >Изменить цвет фона главной страницы, чтобы увеличить вовлеченность пользователей</td>\n",
       "                        <td id=\"T_0fd70_row4_col1\" class=\"data row4 col1\" >3</td>\n",
       "                        <td id=\"T_0fd70_row4_col2\" class=\"data row4 col2\" >1</td>\n",
       "                        <td id=\"T_0fd70_row4_col3\" class=\"data row4 col3\" >1</td>\n",
       "                        <td id=\"T_0fd70_row4_col4\" class=\"data row4 col4\" >1</td>\n",
       "            </tr>\n",
       "            <tr>\n",
       "                        <th id=\"T_0fd70_level0_row5\" class=\"row_heading level0 row5\" >5</th>\n",
       "                        <td id=\"T_0fd70_row5_col0\" class=\"data row5 col0\" >Добавить страницу отзывов клиентов о магазине, что позволит увеличить количество заказов</td>\n",
       "                        <td id=\"T_0fd70_row5_col1\" class=\"data row5 col1\" >3</td>\n",
       "                        <td id=\"T_0fd70_row5_col2\" class=\"data row5 col2\" >2</td>\n",
       "                        <td id=\"T_0fd70_row5_col3\" class=\"data row5 col3\" >2</td>\n",
       "                        <td id=\"T_0fd70_row5_col4\" class=\"data row5 col4\" >3</td>\n",
       "            </tr>\n",
       "            <tr>\n",
       "                        <th id=\"T_0fd70_level0_row6\" class=\"row_heading level0 row6\" >6</th>\n",
       "                        <td id=\"T_0fd70_row6_col0\" class=\"data row6 col0\" >Показать на главной странице баннеры с актуальными акциями и распродажами, чтобы увеличить конверсию</td>\n",
       "                        <td id=\"T_0fd70_row6_col1\" class=\"data row6 col1\" >5</td>\n",
       "                        <td id=\"T_0fd70_row6_col2\" class=\"data row6 col2\" >3</td>\n",
       "                        <td id=\"T_0fd70_row6_col3\" class=\"data row6 col3\" >8</td>\n",
       "                        <td id=\"T_0fd70_row6_col4\" class=\"data row6 col4\" >3</td>\n",
       "            </tr>\n",
       "            <tr>\n",
       "                        <th id=\"T_0fd70_level0_row7\" class=\"row_heading level0 row7\" >7</th>\n",
       "                        <td id=\"T_0fd70_row7_col0\" class=\"data row7 col0\" >Добавить форму подписки на все основные страницы, чтобы собрать базу клиентов для email-рассылок</td>\n",
       "                        <td id=\"T_0fd70_row7_col1\" class=\"data row7 col1\" >10</td>\n",
       "                        <td id=\"T_0fd70_row7_col2\" class=\"data row7 col2\" >7</td>\n",
       "                        <td id=\"T_0fd70_row7_col3\" class=\"data row7 col3\" >8</td>\n",
       "                        <td id=\"T_0fd70_row7_col4\" class=\"data row7 col4\" >5</td>\n",
       "            </tr>\n",
       "            <tr>\n",
       "                        <th id=\"T_0fd70_level0_row8\" class=\"row_heading level0 row8\" >8</th>\n",
       "                        <td id=\"T_0fd70_row8_col0\" class=\"data row8 col0\" >Запустить акцию, дающую скидку на товар в день рождения</td>\n",
       "                        <td id=\"T_0fd70_row8_col1\" class=\"data row8 col1\" >1</td>\n",
       "                        <td id=\"T_0fd70_row8_col2\" class=\"data row8 col2\" >9</td>\n",
       "                        <td id=\"T_0fd70_row8_col3\" class=\"data row8 col3\" >9</td>\n",
       "                        <td id=\"T_0fd70_row8_col4\" class=\"data row8 col4\" >5</td>\n",
       "            </tr>\n",
       "    </tbody></table>"
      ],
      "text/plain": [
       "<pandas.io.formats.style.Styler at 0x7f6074a8d3d0>"
      ]
     },
     "execution_count": 6,
     "metadata": {},
     "output_type": "execute_result"
    }
   ],
   "source": [
    "data.style.set_properties(**{'text-align': 'left'}) "
   ]
  },
  {
   "cell_type": "code",
   "execution_count": 7,
   "metadata": {},
   "outputs": [],
   "source": [
    "# столбцы переименовывать не надо, просто приведем названия к нижнему регистру\n",
    "data.columns = data.columns.str.lower()"
   ]
  },
  {
   "cell_type": "code",
   "execution_count": 8,
   "metadata": {},
   "outputs": [
    {
     "name": "stdout",
     "output_type": "stream",
     "text": [
      "<class 'pandas.core.frame.DataFrame'>\n",
      "RangeIndex: 9 entries, 0 to 8\n",
      "Data columns (total 5 columns):\n",
      " #   Column      Non-Null Count  Dtype \n",
      "---  ------      --------------  ----- \n",
      " 0   hypothesis  9 non-null      object\n",
      " 1   reach       9 non-null      int64 \n",
      " 2   impact      9 non-null      int64 \n",
      " 3   confidence  9 non-null      int64 \n",
      " 4   efforts     9 non-null      int64 \n",
      "dtypes: int64(4), object(1)\n",
      "memory usage: 488.0+ bytes\n"
     ]
    }
   ],
   "source": [
    "data.info() # получение общей информации о данных в таблице data"
   ]
  },
  {
   "cell_type": "code",
   "execution_count": 9,
   "metadata": {},
   "outputs": [
    {
     "data": {
      "text/plain": [
       "Index(['hypothesis', 'reach', 'impact', 'confidence', 'efforts'], dtype='object')"
      ]
     },
     "execution_count": 9,
     "metadata": {},
     "output_type": "execute_result"
    }
   ],
   "source": [
    "data.columns"
   ]
  },
  {
   "cell_type": "markdown",
   "metadata": {},
   "source": [
    "Всё ок. \n",
    "\n",
    "Переходим к заданию - применим фреймворк ICE для приоритизации гипотез. Отсортируем их по убыванию приоритета."
   ]
  },
  {
   "cell_type": "code",
   "execution_count": 10,
   "metadata": {},
   "outputs": [],
   "source": [
    "data['ICE'] = (data['impact'] * data['confidence']) / data['efforts'] # формула для расчёта по методу ICE"
   ]
  },
  {
   "cell_type": "code",
   "execution_count": 11,
   "metadata": {},
   "outputs": [
    {
     "data": {
      "text/html": [
       "<div>\n",
       "<style scoped>\n",
       "    .dataframe tbody tr th:only-of-type {\n",
       "        vertical-align: middle;\n",
       "    }\n",
       "\n",
       "    .dataframe tbody tr th {\n",
       "        vertical-align: top;\n",
       "    }\n",
       "\n",
       "    .dataframe thead th {\n",
       "        text-align: right;\n",
       "    }\n",
       "</style>\n",
       "<table border=\"1\" class=\"dataframe\">\n",
       "  <thead>\n",
       "    <tr style=\"text-align: right;\">\n",
       "      <th></th>\n",
       "      <th>hypothesis</th>\n",
       "      <th>ICE</th>\n",
       "    </tr>\n",
       "  </thead>\n",
       "  <tbody>\n",
       "    <tr>\n",
       "      <th>8</th>\n",
       "      <td>Запустить акцию, дающую скидку на товар в день...</td>\n",
       "      <td>16.20</td>\n",
       "    </tr>\n",
       "    <tr>\n",
       "      <th>0</th>\n",
       "      <td>Добавить два новых канала привлечения трафика,...</td>\n",
       "      <td>13.33</td>\n",
       "    </tr>\n",
       "    <tr>\n",
       "      <th>7</th>\n",
       "      <td>Добавить форму подписки на все основные страни...</td>\n",
       "      <td>11.20</td>\n",
       "    </tr>\n",
       "    <tr>\n",
       "      <th>6</th>\n",
       "      <td>Показать на главной странице баннеры с актуаль...</td>\n",
       "      <td>8.00</td>\n",
       "    </tr>\n",
       "    <tr>\n",
       "      <th>2</th>\n",
       "      <td>Добавить блоки рекомендаций товаров на сайт ин...</td>\n",
       "      <td>7.00</td>\n",
       "    </tr>\n",
       "    <tr>\n",
       "      <th>1</th>\n",
       "      <td>Запустить собственную службу доставки, что сок...</td>\n",
       "      <td>2.00</td>\n",
       "    </tr>\n",
       "    <tr>\n",
       "      <th>5</th>\n",
       "      <td>Добавить страницу отзывов клиентов о магазине,...</td>\n",
       "      <td>1.33</td>\n",
       "    </tr>\n",
       "    <tr>\n",
       "      <th>3</th>\n",
       "      <td>Изменить структура категорий, что увеличит кон...</td>\n",
       "      <td>1.12</td>\n",
       "    </tr>\n",
       "    <tr>\n",
       "      <th>4</th>\n",
       "      <td>Изменить цвет фона главной страницы, чтобы уве...</td>\n",
       "      <td>1.00</td>\n",
       "    </tr>\n",
       "  </tbody>\n",
       "</table>\n",
       "</div>"
      ],
      "text/plain": [
       "                                          hypothesis   ICE\n",
       "8  Запустить акцию, дающую скидку на товар в день... 16.20\n",
       "0  Добавить два новых канала привлечения трафика,... 13.33\n",
       "7  Добавить форму подписки на все основные страни... 11.20\n",
       "6  Показать на главной странице баннеры с актуаль...  8.00\n",
       "2  Добавить блоки рекомендаций товаров на сайт ин...  7.00\n",
       "1  Запустить собственную службу доставки, что сок...  2.00\n",
       "5  Добавить страницу отзывов клиентов о магазине,...  1.33\n",
       "3  Изменить структура категорий, что увеличит кон...  1.12\n",
       "4  Изменить цвет фона главной страницы, чтобы уве...  1.00"
      ]
     },
     "execution_count": 11,
     "metadata": {},
     "output_type": "execute_result"
    }
   ],
   "source": [
    "data[['hypothesis', 'ICE']].sort_values(by='ICE', ascending=False) # выводим на экран отсортированный результат"
   ]
  },
  {
   "cell_type": "markdown",
   "metadata": {},
   "source": [
    "Самые приоритетные гипотезы по фреймворку ICE: 8, 0 и 7."
   ]
  },
  {
   "cell_type": "markdown",
   "metadata": {},
   "source": [
    "Переходим к расчёту по методу RICE."
   ]
  },
  {
   "cell_type": "code",
   "execution_count": 12,
   "metadata": {},
   "outputs": [],
   "source": [
    "data['RICE'] = (data['reach'] * data['impact'] * data['confidence']) / data['efforts'] # формула для расчёта по методу RICE"
   ]
  },
  {
   "cell_type": "code",
   "execution_count": 13,
   "metadata": {},
   "outputs": [
    {
     "data": {
      "text/html": [
       "<div>\n",
       "<style scoped>\n",
       "    .dataframe tbody tr th:only-of-type {\n",
       "        vertical-align: middle;\n",
       "    }\n",
       "\n",
       "    .dataframe tbody tr th {\n",
       "        vertical-align: top;\n",
       "    }\n",
       "\n",
       "    .dataframe thead th {\n",
       "        text-align: right;\n",
       "    }\n",
       "</style>\n",
       "<table border=\"1\" class=\"dataframe\">\n",
       "  <thead>\n",
       "    <tr style=\"text-align: right;\">\n",
       "      <th></th>\n",
       "      <th>hypothesis</th>\n",
       "      <th>RICE</th>\n",
       "    </tr>\n",
       "  </thead>\n",
       "  <tbody>\n",
       "    <tr>\n",
       "      <th>7</th>\n",
       "      <td>Добавить форму подписки на все основные страни...</td>\n",
       "      <td>112.00</td>\n",
       "    </tr>\n",
       "    <tr>\n",
       "      <th>2</th>\n",
       "      <td>Добавить блоки рекомендаций товаров на сайт ин...</td>\n",
       "      <td>56.00</td>\n",
       "    </tr>\n",
       "    <tr>\n",
       "      <th>0</th>\n",
       "      <td>Добавить два новых канала привлечения трафика,...</td>\n",
       "      <td>40.00</td>\n",
       "    </tr>\n",
       "    <tr>\n",
       "      <th>6</th>\n",
       "      <td>Показать на главной странице баннеры с актуаль...</td>\n",
       "      <td>40.00</td>\n",
       "    </tr>\n",
       "    <tr>\n",
       "      <th>8</th>\n",
       "      <td>Запустить акцию, дающую скидку на товар в день...</td>\n",
       "      <td>16.20</td>\n",
       "    </tr>\n",
       "    <tr>\n",
       "      <th>3</th>\n",
       "      <td>Изменить структура категорий, что увеличит кон...</td>\n",
       "      <td>9.00</td>\n",
       "    </tr>\n",
       "    <tr>\n",
       "      <th>1</th>\n",
       "      <td>Запустить собственную службу доставки, что сок...</td>\n",
       "      <td>4.00</td>\n",
       "    </tr>\n",
       "    <tr>\n",
       "      <th>5</th>\n",
       "      <td>Добавить страницу отзывов клиентов о магазине,...</td>\n",
       "      <td>4.00</td>\n",
       "    </tr>\n",
       "    <tr>\n",
       "      <th>4</th>\n",
       "      <td>Изменить цвет фона главной страницы, чтобы уве...</td>\n",
       "      <td>3.00</td>\n",
       "    </tr>\n",
       "  </tbody>\n",
       "</table>\n",
       "</div>"
      ],
      "text/plain": [
       "                                          hypothesis   RICE\n",
       "7  Добавить форму подписки на все основные страни... 112.00\n",
       "2  Добавить блоки рекомендаций товаров на сайт ин...  56.00\n",
       "0  Добавить два новых канала привлечения трафика,...  40.00\n",
       "6  Показать на главной странице баннеры с актуаль...  40.00\n",
       "8  Запустить акцию, дающую скидку на товар в день...  16.20\n",
       "3  Изменить структура категорий, что увеличит кон...   9.00\n",
       "1  Запустить собственную службу доставки, что сок...   4.00\n",
       "5  Добавить страницу отзывов клиентов о магазине,...   4.00\n",
       "4  Изменить цвет фона главной страницы, чтобы уве...   3.00"
      ]
     },
     "execution_count": 13,
     "metadata": {},
     "output_type": "execute_result"
    }
   ],
   "source": [
    "data[['hypothesis', 'RICE']].sort_values(by='RICE', ascending=False) # выводим на экран отсортированный результат"
   ]
  },
  {
   "cell_type": "markdown",
   "metadata": {},
   "source": [
    "Если сравнивать с методом ICE, то изменения следующие: на первом месте теперь гипотеза № 7 (была на 3м) - это произошло из-за того, что \"reach\" у этой гипотезы максимальный - 10 баллов. На втором и третьем месте теперь гипотезы №2 и №0.\n",
    "\n",
    "Вывод по первой части проекта: если выбирать самые приоритетные гипотезы, то это будут: №7 и №0. С ними нужно работать дальше."
   ]
  },
  {
   "cell_type": "markdown",
   "metadata": {},
   "source": [
    "# Часть 2. Анализ A/B-теста"
   ]
  },
  {
   "cell_type": "markdown",
   "metadata": {},
   "source": [
    "Задачи второй части проекта:\n",
    "\n",
    "- Постройте график кумулятивной выручки по группам. Сделайте выводы и предположения.\n",
    "- Постройте график кумулятивного среднего чека по группам. Сделайте выводы и предположения.\n",
    "- Постройте график относительного изменения кумулятивного среднего чека группы B к группе A. Сделайте выводы и предположения.\n",
    "- Постройте график кумулятивного среднего количества заказов по группам. Сделайте выводы и предположения.\n",
    "- Постройте график относительного изменения кумулятивного среднего количества заказов группы B к группе A. Сделайте выводы и предположения.\n",
    "- Постройте точечный график количества заказов по пользователям. Сделайте выводы и предположения.\n",
    "- Посчитайте 95-й и 99-й перцентили количества заказов на пользователя. Выберите границу для определения аномальных пользователей.\n",
    "- Постройте точечный график стоимостей заказов. Сделайте выводы и предположения.\n",
    "- Посчитайте 95-й и 99-й перцентили стоимости заказов. Выберите границу для определения аномальных заказов.\n",
    "- Посчитайте статистическую значимость различий в среднем количестве заказов между группами по «сырым» данным. Сделайте выводы и предположения.\n",
    "- Посчитайте статистическую значимость различий в среднем чеке заказа между группами по «сырым» данным. Сделайте выводы и предположения.\n",
    "- Посчитайте статистическую значимость различий в среднем количестве заказов между группами по «очищенным» данным. Сделайте выводы и предположения.\n",
    "- Посчитайте статистическую значимость различий в среднем чеке заказа между группами по «очищенным» данным. Сделайте выводы и предположения.\n",
    "- Примите решение по результатам теста и объясните его. Варианты решений: 1. Остановить тест, зафиксировать победу одной из групп. 2. Остановить тест, зафиксировать отсутствие различий между группами. 3. Продолжить тест."
   ]
  },
  {
   "cell_type": "code",
   "execution_count": 14,
   "metadata": {},
   "outputs": [],
   "source": [
    "orders = pd.read_csv('/datasets/orders.csv') # чтение файла с данными и сохранение в orders"
   ]
  },
  {
   "cell_type": "code",
   "execution_count": 15,
   "metadata": {},
   "outputs": [
    {
     "data": {
      "text/html": [
       "<div>\n",
       "<style scoped>\n",
       "    .dataframe tbody tr th:only-of-type {\n",
       "        vertical-align: middle;\n",
       "    }\n",
       "\n",
       "    .dataframe tbody tr th {\n",
       "        vertical-align: top;\n",
       "    }\n",
       "\n",
       "    .dataframe thead th {\n",
       "        text-align: right;\n",
       "    }\n",
       "</style>\n",
       "<table border=\"1\" class=\"dataframe\">\n",
       "  <thead>\n",
       "    <tr style=\"text-align: right;\">\n",
       "      <th></th>\n",
       "      <th>transactionId</th>\n",
       "      <th>visitorId</th>\n",
       "      <th>date</th>\n",
       "      <th>revenue</th>\n",
       "      <th>group</th>\n",
       "    </tr>\n",
       "  </thead>\n",
       "  <tbody>\n",
       "    <tr>\n",
       "      <th>0</th>\n",
       "      <td>3667963787</td>\n",
       "      <td>3312258926</td>\n",
       "      <td>2019-08-15</td>\n",
       "      <td>1650</td>\n",
       "      <td>B</td>\n",
       "    </tr>\n",
       "    <tr>\n",
       "      <th>1</th>\n",
       "      <td>2804400009</td>\n",
       "      <td>3642806036</td>\n",
       "      <td>2019-08-15</td>\n",
       "      <td>730</td>\n",
       "      <td>B</td>\n",
       "    </tr>\n",
       "    <tr>\n",
       "      <th>2</th>\n",
       "      <td>2961555356</td>\n",
       "      <td>4069496402</td>\n",
       "      <td>2019-08-15</td>\n",
       "      <td>400</td>\n",
       "      <td>A</td>\n",
       "    </tr>\n",
       "    <tr>\n",
       "      <th>3</th>\n",
       "      <td>3797467345</td>\n",
       "      <td>1196621759</td>\n",
       "      <td>2019-08-15</td>\n",
       "      <td>9759</td>\n",
       "      <td>B</td>\n",
       "    </tr>\n",
       "    <tr>\n",
       "      <th>4</th>\n",
       "      <td>2282983706</td>\n",
       "      <td>2322279887</td>\n",
       "      <td>2019-08-15</td>\n",
       "      <td>2308</td>\n",
       "      <td>B</td>\n",
       "    </tr>\n",
       "  </tbody>\n",
       "</table>\n",
       "</div>"
      ],
      "text/plain": [
       "   transactionId   visitorId        date  revenue group\n",
       "0     3667963787  3312258926  2019-08-15     1650     B\n",
       "1     2804400009  3642806036  2019-08-15      730     B\n",
       "2     2961555356  4069496402  2019-08-15      400     A\n",
       "3     3797467345  1196621759  2019-08-15     9759     B\n",
       "4     2282983706  2322279887  2019-08-15     2308     B"
      ]
     },
     "execution_count": 15,
     "metadata": {},
     "output_type": "execute_result"
    }
   ],
   "source": [
    "orders.head(5) # вывод первых 5 строк"
   ]
  },
  {
   "cell_type": "code",
   "execution_count": 16,
   "metadata": {},
   "outputs": [
    {
     "name": "stdout",
     "output_type": "stream",
     "text": [
      "<class 'pandas.core.frame.DataFrame'>\n",
      "RangeIndex: 1197 entries, 0 to 1196\n",
      "Data columns (total 5 columns):\n",
      " #   Column         Non-Null Count  Dtype \n",
      "---  ------         --------------  ----- \n",
      " 0   transactionId  1197 non-null   int64 \n",
      " 1   visitorId      1197 non-null   int64 \n",
      " 2   date           1197 non-null   object\n",
      " 3   revenue        1197 non-null   int64 \n",
      " 4   group          1197 non-null   object\n",
      "dtypes: int64(3), object(2)\n",
      "memory usage: 46.9+ KB\n"
     ]
    }
   ],
   "source": [
    "orders.info() # получение общей информации о данных в таблице orders"
   ]
  },
  {
   "cell_type": "code",
   "execution_count": 17,
   "metadata": {},
   "outputs": [
    {
     "data": {
      "text/plain": [
       "array(['B', 'A'], dtype=object)"
      ]
     },
     "execution_count": 17,
     "metadata": {},
     "output_type": "execute_result"
    }
   ],
   "source": [
    "orders['group'].unique() # проверка на то, что в столбце 'group' содержатся только группы A и B."
   ]
  },
  {
   "cell_type": "code",
   "execution_count": 18,
   "metadata": {},
   "outputs": [],
   "source": [
    "# приведение названий столбцов к snake_case\n",
    "orders = orders.rename(columns = {'transactionId' : 'transaction_id', 'visitorId' : 'visitor_id'}) "
   ]
  },
  {
   "cell_type": "code",
   "execution_count": 19,
   "metadata": {},
   "outputs": [],
   "source": [
    "orders['date'] = pd.to_datetime(orders['date']) # изменим тип данных с object на date"
   ]
  },
  {
   "cell_type": "code",
   "execution_count": 20,
   "metadata": {},
   "outputs": [],
   "source": [
    "visitors = pd.read_csv('/datasets/visitors.csv')  # чтение файла с данными и сохранение в visitors"
   ]
  },
  {
   "cell_type": "code",
   "execution_count": 21,
   "metadata": {},
   "outputs": [
    {
     "data": {
      "text/html": [
       "<div>\n",
       "<style scoped>\n",
       "    .dataframe tbody tr th:only-of-type {\n",
       "        vertical-align: middle;\n",
       "    }\n",
       "\n",
       "    .dataframe tbody tr th {\n",
       "        vertical-align: top;\n",
       "    }\n",
       "\n",
       "    .dataframe thead th {\n",
       "        text-align: right;\n",
       "    }\n",
       "</style>\n",
       "<table border=\"1\" class=\"dataframe\">\n",
       "  <thead>\n",
       "    <tr style=\"text-align: right;\">\n",
       "      <th></th>\n",
       "      <th>date</th>\n",
       "      <th>group</th>\n",
       "      <th>visitors</th>\n",
       "    </tr>\n",
       "  </thead>\n",
       "  <tbody>\n",
       "    <tr>\n",
       "      <th>0</th>\n",
       "      <td>2019-08-01</td>\n",
       "      <td>A</td>\n",
       "      <td>719</td>\n",
       "    </tr>\n",
       "    <tr>\n",
       "      <th>1</th>\n",
       "      <td>2019-08-02</td>\n",
       "      <td>A</td>\n",
       "      <td>619</td>\n",
       "    </tr>\n",
       "    <tr>\n",
       "      <th>2</th>\n",
       "      <td>2019-08-03</td>\n",
       "      <td>A</td>\n",
       "      <td>507</td>\n",
       "    </tr>\n",
       "    <tr>\n",
       "      <th>3</th>\n",
       "      <td>2019-08-04</td>\n",
       "      <td>A</td>\n",
       "      <td>717</td>\n",
       "    </tr>\n",
       "    <tr>\n",
       "      <th>4</th>\n",
       "      <td>2019-08-05</td>\n",
       "      <td>A</td>\n",
       "      <td>756</td>\n",
       "    </tr>\n",
       "  </tbody>\n",
       "</table>\n",
       "</div>"
      ],
      "text/plain": [
       "         date group  visitors\n",
       "0  2019-08-01     A       719\n",
       "1  2019-08-02     A       619\n",
       "2  2019-08-03     A       507\n",
       "3  2019-08-04     A       717\n",
       "4  2019-08-05     A       756"
      ]
     },
     "execution_count": 21,
     "metadata": {},
     "output_type": "execute_result"
    }
   ],
   "source": [
    "visitors.head(5) # вывод первых 5 строк"
   ]
  },
  {
   "cell_type": "code",
   "execution_count": 22,
   "metadata": {},
   "outputs": [
    {
     "name": "stdout",
     "output_type": "stream",
     "text": [
      "<class 'pandas.core.frame.DataFrame'>\n",
      "RangeIndex: 62 entries, 0 to 61\n",
      "Data columns (total 3 columns):\n",
      " #   Column    Non-Null Count  Dtype \n",
      "---  ------    --------------  ----- \n",
      " 0   date      62 non-null     object\n",
      " 1   group     62 non-null     object\n",
      " 2   visitors  62 non-null     int64 \n",
      "dtypes: int64(1), object(2)\n",
      "memory usage: 1.6+ KB\n"
     ]
    }
   ],
   "source": [
    "visitors.info() # получение общей информации о данных в таблице visitors"
   ]
  },
  {
   "cell_type": "code",
   "execution_count": 23,
   "metadata": {},
   "outputs": [],
   "source": [
    "visitors['date'] = pd.to_datetime(visitors['date'])  # изменим тип данных с object на date"
   ]
  },
  {
   "cell_type": "code",
   "execution_count": 24,
   "metadata": {},
   "outputs": [
    {
     "data": {
      "text/plain": [
       "array(['A', 'B'], dtype=object)"
      ]
     },
     "execution_count": 24,
     "metadata": {},
     "output_type": "execute_result"
    }
   ],
   "source": [
    "visitors['group'].unique() # проверка на то, что в столбце 'group' содержатся только группы A и B."
   ]
  },
  {
   "cell_type": "code",
   "execution_count": 25,
   "metadata": {},
   "outputs": [
    {
     "data": {
      "text/plain": [
       "group    58\n",
       "dtype: int64"
      ]
     },
     "execution_count": 25,
     "metadata": {},
     "output_type": "execute_result"
    }
   ],
   "source": [
    "orders.pivot_table(index='visitor_id', values='group', aggfunc='nunique').query('group > 1').count()"
   ]
  },
  {
   "cell_type": "markdown",
   "metadata": {},
   "source": [
    "После проверки обнаружилось 58 дубликатов. Получается, что всего 1139 уникальных пользователей.\n",
    "\n",
    "Так как таких пользователей менее 5%, то это не повлияет на окончательный результат, поэтому оставляем как есть."
   ]
  },
  {
   "cell_type": "markdown",
   "metadata": {},
   "source": [
    "Вывод: таблицы готовы к проведению АБ-теста - данные приведены к необходимым типам, название столбцов изменены, где это необходимо."
   ]
  },
  {
   "cell_type": "markdown",
   "metadata": {},
   "source": [
    "1. Постройте график кумулятивной выручки по группам. "
   ]
  },
  {
   "cell_type": "code",
   "execution_count": 26,
   "metadata": {},
   "outputs": [],
   "source": [
    "datesGroups = orders[['date', 'group']].drop_duplicates()\n",
    "\n",
    "ordersAggregated = datesGroups.apply(\n",
    "    lambda x: orders[np.logical_and(orders['date'] <= x['date'], orders['group'] == x['group'])].agg({\n",
    "        'date' : 'max',\n",
    "        'group' : 'max',\n",
    "        'transaction_id' : pd.Series.nunique,\n",
    "        'visitor_id' : pd.Series.nunique,\n",
    "        'revenue' : 'sum'}), axis=1).sort_values(by=['date','group']) \n",
    "\n",
    "visitorsAggregated = datesGroups.apply(\n",
    "    lambda x: visitors[np.logical_and(visitors['date'] <= x['date'], visitors['group'] == x['group'])].agg({\n",
    "        'date' : 'max', \n",
    "        'group' : 'max', \n",
    "        'visitors' : 'sum'}), axis=1).sort_values(by=['date','group'])\n",
    "\n",
    "cumulativeData = ordersAggregated.merge(visitorsAggregated, left_on=['date', 'group'], right_on=['date', 'group'])\n",
    "\n",
    "cumulativeData.columns = ['date', 'group', 'orders', 'buyers', 'revenue', 'visitors']"
   ]
  },
  {
   "cell_type": "code",
   "execution_count": 27,
   "metadata": {},
   "outputs": [
    {
     "data": {
      "image/png": "[encoded data removed]",
      "text/plain": [
       "<Figure size 1152x648 with 1 Axes>"
      ]
     },
     "metadata": {
      "needs_background": "light"
     },
     "output_type": "display_data"
    }
   ],
   "source": [
    "cumulativeRevenueA = cumulativeData[cumulativeData['group']=='A'][['date','revenue', 'orders']]\n",
    "\n",
    "cumulativeRevenueB = cumulativeData[cumulativeData['group']=='B'][['date','revenue', 'orders']]\n",
    "\n",
    "plt.rcParams[\"figure.figsize\"] = [16,9]\n",
    "plt.plot(cumulativeRevenueA['date'], cumulativeRevenueA['revenue'], label='A')\n",
    "plt.plot(cumulativeRevenueB['date'], cumulativeRevenueB['revenue'], label='B')\n",
    "\n",
    "plt.xlabel('Дата', fontsize=16)\n",
    "plt.ylabel('Выручка', fontsize=16)\n",
    "\n",
    "plt.grid()\n",
    "plt.legend();"
   ]
  },
  {
   "cell_type": "markdown",
   "metadata": {},
   "source": [
    "Вывод: в середине теста сегмент В вырвался вперёд и продожал лидировать весь остаток теста. Необхоидмо понять с чем это связано: с резким увеличением количества заказов или с ростом стоимости."
   ]
  },
  {
   "cell_type": "markdown",
   "metadata": {},
   "source": [
    "2. Постройте график кумулятивного среднего чека по группам."
   ]
  },
  {
   "cell_type": "code",
   "execution_count": 28,
   "metadata": {},
   "outputs": [
    {
     "data": {
      "image/png": "[encoded data removed]",
      "text/plain": [
       "<Figure size 1152x648 with 1 Axes>"
      ]
     },
     "metadata": {
      "needs_background": "light"
     },
     "output_type": "display_data"
    }
   ],
   "source": [
    "plt.rcParams[\"figure.figsize\"] = [16,9]\n",
    "plt.plot(cumulativeRevenueA['date'], cumulativeRevenueA['revenue']/cumulativeRevenueA['orders'], label='A')\n",
    "plt.plot(cumulativeRevenueB['date'], cumulativeRevenueB['revenue']/cumulativeRevenueB['orders'], label='B')\n",
    "plt.xlabel('Дата', fontsize=16)\n",
    "plt.ylabel('Средний чек', fontsize=16)\n",
    "\n",
    "plt.grid()\n",
    "plt.legend();\n"
   ]
  },
  {
   "cell_type": "markdown",
   "metadata": {},
   "source": [
    "Вывод: кумулятивное значение среднего чека в группе В значительно выше, чем в группе А. Необходимо проверить как изменится результат после удаления крупных заказов."
   ]
  },
  {
   "cell_type": "markdown",
   "metadata": {},
   "source": [
    "3. Постройте график относительного изменения кумулятивного среднего чека группы B к группе A."
   ]
  },
  {
   "cell_type": "code",
   "execution_count": 29,
   "metadata": {},
   "outputs": [
    {
     "data": {
      "image/png": "[encoded data removed]",
      "text/plain": [
       "<Figure size 1152x648 with 1 Axes>"
      ]
     },
     "metadata": {
      "needs_background": "light"
     },
     "output_type": "display_data"
    }
   ],
   "source": [
    "mergedCumulativeRevenue = cumulativeRevenueA.merge(cumulativeRevenueB, left_on='date', right_on='date', how='left', suffixes=['A', 'B'])\n",
    "plt.rcParams[\"figure.figsize\"] = [16,9]\n",
    "plt.plot(mergedCumulativeRevenue['date'], (mergedCumulativeRevenue['revenueB']/mergedCumulativeRevenue['ordersB'])/(mergedCumulativeRevenue['revenueA']/mergedCumulativeRevenue['ordersA'])-1)\n",
    "\n",
    "plt.axhline(y=0, color='black', linestyle='--')\n",
    "plt.xlabel('Дата', fontsize=16)\n",
    "\n",
    "plt.grid();"
   ]
  },
  {
   "cell_type": "markdown",
   "metadata": {},
   "source": [
    "Вывод: в нескольких точках график различия между сегментами резко «скачет». И график не стремится к нулю, значит - в группе В точно есть очень крупные заказы и выбросы."
   ]
  },
  {
   "cell_type": "markdown",
   "metadata": {},
   "source": [
    "4. Постройте график кумулятивной конверсии по группам."
   ]
  },
  {
   "cell_type": "markdown",
   "metadata": {},
   "source": [
    "Для начала найдем даты начала и конца проведения теста."
   ]
  },
  {
   "cell_type": "code",
   "execution_count": 30,
   "metadata": {},
   "outputs": [
    {
     "data": {
      "text/plain": [
       "Timestamp('2019-08-01 00:00:00')"
      ]
     },
     "execution_count": 30,
     "metadata": {},
     "output_type": "execute_result"
    }
   ],
   "source": [
    "orders['date'].min()"
   ]
  },
  {
   "cell_type": "code",
   "execution_count": 31,
   "metadata": {},
   "outputs": [
    {
     "data": {
      "text/plain": [
       "Timestamp('2019-08-31 00:00:00')"
      ]
     },
     "execution_count": 31,
     "metadata": {},
     "output_type": "execute_result"
    }
   ],
   "source": [
    "orders['date'].max()"
   ]
  },
  {
   "cell_type": "code",
   "execution_count": 32,
   "metadata": {},
   "outputs": [
    {
     "data": {
      "text/plain": [
       "Timestamp('2019-08-01 00:00:00')"
      ]
     },
     "execution_count": 32,
     "metadata": {},
     "output_type": "execute_result"
    }
   ],
   "source": [
    "visitors['date'].min()"
   ]
  },
  {
   "cell_type": "code",
   "execution_count": 33,
   "metadata": {},
   "outputs": [
    {
     "data": {
      "text/plain": [
       "Timestamp('2019-08-31 00:00:00')"
      ]
     },
     "execution_count": 33,
     "metadata": {},
     "output_type": "execute_result"
    }
   ],
   "source": [
    "visitors['date'].max()"
   ]
  },
  {
   "cell_type": "code",
   "execution_count": 34,
   "metadata": {},
   "outputs": [
    {
     "data": {
      "image/png": "[encoded data removed]",
      "text/plain": [
       "<Figure size 1152x648 with 1 Axes>"
      ]
     },
     "metadata": {
      "needs_background": "light"
     },
     "output_type": "display_data"
    }
   ],
   "source": [
    "cumulativeData['conversion'] = cumulativeData['orders'] / cumulativeData['visitors']\n",
    "\n",
    "cumulativeDataA = cumulativeData[cumulativeData['group']=='A']\n",
    "cumulativeDataB = cumulativeData[cumulativeData['group']=='B']\n",
    "plt.rcParams[\"figure.figsize\"] = [16,9]\n",
    "plt.plot(cumulativeDataA['date'], cumulativeDataA['conversion'], label='A')\n",
    "plt.plot(cumulativeDataB['date'], cumulativeDataB['conversion'], label='B')\n",
    "plt.legend()\n",
    "\n",
    "plt.axis([dt.datetime(2019, 8, 1), dt.datetime(2019, 8, 31), 0.025, 0.04])\n",
    "plt.xlabel('Дата', fontsize=16)\n",
    "plt.ylabel('Кумулятивная конверсия', fontsize=16)\n",
    "\n",
    "plt.grid();"
   ]
  },
  {
   "cell_type": "markdown",
   "metadata": {},
   "source": [
    "Вывод: вначале были всплески и сегмент А имел большую конверсию, но затем сегмент B начал резко расти, выровнялся и зафиксировался вокруг одного значения (0.034), больше значение сегмента А (0.03)."
   ]
  },
  {
   "cell_type": "markdown",
   "metadata": {},
   "source": [
    "5. Постройте график относительного изменения кумулятивной конверсии группы B к группе A."
   ]
  },
  {
   "cell_type": "code",
   "execution_count": 35,
   "metadata": {},
   "outputs": [
    {
     "data": {
      "image/png": "[encoded data removed]",
      "text/plain": [
       "<Figure size 1152x648 with 1 Axes>"
      ]
     },
     "metadata": {
      "needs_background": "light"
     },
     "output_type": "display_data"
    }
   ],
   "source": [
    "mergedCumulativeConversions = cumulativeDataA[['date','conversion']].merge(cumulativeDataB[['date','conversion']], left_on='date', right_on='date', how='left', suffixes=['A', 'B'])\n",
    "plt.rcParams[\"figure.figsize\"] = [16,9]\n",
    "plt.plot(mergedCumulativeConversions['date'], mergedCumulativeConversions['conversionB']/mergedCumulativeConversions['conversionA']-1, label=\"Относительный прирост конверсии группы B относительно группы A\")\n",
    "plt.legend()\n",
    "\n",
    "plt.axhline(y=0, color='black', linestyle='--')\n",
    "plt.axhline(y=0.14, color='red', linestyle='--')\n",
    "plt.xlabel('Дата', fontsize=16)\n",
    "plt.axis([dt.datetime(2019, 8, 1), dt.datetime(2019, 8, 31), -0.25, 0.25]);"
   ]
  },
  {
   "cell_type": "markdown",
   "metadata": {},
   "source": [
    "Вывод: в начале теста группа B проигрывала группе A, затем вырвалась вперёд. Потом её конверсия незначительно падала, но теперь постепенно растёт.\n",
    "В целом отношение конверсии ещё не установилось, и сейчас делать какие-либо выводы по тесту нельзя. Впрочем, сперва стоит проанализировать аномалии, возможно, они изменят картину."
   ]
  },
  {
   "cell_type": "markdown",
   "metadata": {},
   "source": [
    "6. Постройте точечный график количества заказов по пользователям. "
   ]
  },
  {
   "cell_type": "code",
   "execution_count": 36,
   "metadata": {},
   "outputs": [
    {
     "data": {
      "text/html": [
       "<div>\n",
       "<style scoped>\n",
       "    .dataframe tbody tr th:only-of-type {\n",
       "        vertical-align: middle;\n",
       "    }\n",
       "\n",
       "    .dataframe tbody tr th {\n",
       "        vertical-align: top;\n",
       "    }\n",
       "\n",
       "    .dataframe thead th {\n",
       "        text-align: right;\n",
       "    }\n",
       "</style>\n",
       "<table border=\"1\" class=\"dataframe\">\n",
       "  <thead>\n",
       "    <tr style=\"text-align: right;\">\n",
       "      <th></th>\n",
       "      <th>visitor_id</th>\n",
       "      <th>orders</th>\n",
       "    </tr>\n",
       "  </thead>\n",
       "  <tbody>\n",
       "    <tr>\n",
       "      <th>1023</th>\n",
       "      <td>4256040402</td>\n",
       "      <td>11</td>\n",
       "    </tr>\n",
       "    <tr>\n",
       "      <th>591</th>\n",
       "      <td>2458001652</td>\n",
       "      <td>11</td>\n",
       "    </tr>\n",
       "    <tr>\n",
       "      <th>569</th>\n",
       "      <td>2378935119</td>\n",
       "      <td>9</td>\n",
       "    </tr>\n",
       "    <tr>\n",
       "      <th>487</th>\n",
       "      <td>2038680547</td>\n",
       "      <td>8</td>\n",
       "    </tr>\n",
       "    <tr>\n",
       "      <th>44</th>\n",
       "      <td>199603092</td>\n",
       "      <td>5</td>\n",
       "    </tr>\n",
       "    <tr>\n",
       "      <th>744</th>\n",
       "      <td>3062433592</td>\n",
       "      <td>5</td>\n",
       "    </tr>\n",
       "    <tr>\n",
       "      <th>55</th>\n",
       "      <td>237748145</td>\n",
       "      <td>5</td>\n",
       "    </tr>\n",
       "    <tr>\n",
       "      <th>917</th>\n",
       "      <td>3803269165</td>\n",
       "      <td>5</td>\n",
       "    </tr>\n",
       "    <tr>\n",
       "      <th>299</th>\n",
       "      <td>1230306981</td>\n",
       "      <td>5</td>\n",
       "    </tr>\n",
       "    <tr>\n",
       "      <th>897</th>\n",
       "      <td>3717692402</td>\n",
       "      <td>5</td>\n",
       "    </tr>\n",
       "  </tbody>\n",
       "</table>\n",
       "</div>"
      ],
      "text/plain": [
       "      visitor_id  orders\n",
       "1023  4256040402      11\n",
       "591   2458001652      11\n",
       "569   2378935119       9\n",
       "487   2038680547       8\n",
       "44     199603092       5\n",
       "744   3062433592       5\n",
       "55     237748145       5\n",
       "917   3803269165       5\n",
       "299   1230306981       5\n",
       "897   3717692402       5"
      ]
     },
     "execution_count": 36,
     "metadata": {},
     "output_type": "execute_result"
    }
   ],
   "source": [
    "ordersByUsers = (\n",
    "    orders.groupby('visitor_id', as_index=False)\n",
    "    .agg({'transaction_id': 'nunique'})\n",
    ")\n",
    "ordersByUsers.columns = ['visitor_id', 'orders']\n",
    "\n",
    "ordersByUsers.sort_values(by='orders', ascending=False).head(10)"
   ]
  },
  {
   "cell_type": "code",
   "execution_count": 37,
   "metadata": {},
   "outputs": [
    {
     "data": {
      "image/png": "[encoded data removed]",
      "text/plain": [
       "<Figure size 1152x648 with 1 Axes>"
      ]
     },
     "metadata": {
      "needs_background": "light"
     },
     "output_type": "display_data"
    }
   ],
   "source": [
    "x_values = pd.Series(range(0, len(ordersByUsers)))\n",
    "plt.rcParams[\"figure.figsize\"] = [16,9]\n",
    "plt.scatter(x_values, ordersByUsers['orders'])\n",
    "plt.xlabel('Количество пользователей', fontsize=16)\n",
    "plt.ylabel('Количество заказов', fontsize=16)\n",
    "\n",
    "plt.grid();"
   ]
  },
  {
   "cell_type": "markdown",
   "metadata": {},
   "source": [
    "Вывод: пользователей, заказавших более двух раз, совсем мало. Они могут быть аномальными. Чтобы это понять, надо посчитать выборочные перцентили. "
   ]
  },
  {
   "cell_type": "markdown",
   "metadata": {},
   "source": [
    "7. Посчитайте 95-й и 99-й перцентили количества заказов на пользователя. Выберите границу для определения аномальных пользователей."
   ]
  },
  {
   "cell_type": "code",
   "execution_count": 38,
   "metadata": {},
   "outputs": [
    {
     "data": {
      "text/plain": [
       "array([1., 2., 4.])"
      ]
     },
     "execution_count": 38,
     "metadata": {},
     "output_type": "execute_result"
    }
   ],
   "source": [
    "np.percentile(ordersByUsers['orders'], [90, 95, 99])"
   ]
  },
  {
   "cell_type": "markdown",
   "metadata": {},
   "source": [
    "Вывод: не более 5% пользователей совершили более двух заказов и не более 1% - более 4 заказов. 2 заказа будет границей для определения аномальных пользователей."
   ]
  },
  {
   "cell_type": "markdown",
   "metadata": {},
   "source": [
    "8. Постройте точечный график стоимостей заказов. "
   ]
  },
  {
   "cell_type": "code",
   "execution_count": 39,
   "metadata": {},
   "outputs": [
    {
     "data": {
      "text/html": [
       "<div>\n",
       "<style scoped>\n",
       "    .dataframe tbody tr th:only-of-type {\n",
       "        vertical-align: middle;\n",
       "    }\n",
       "\n",
       "    .dataframe tbody tr th {\n",
       "        vertical-align: top;\n",
       "    }\n",
       "\n",
       "    .dataframe thead th {\n",
       "        text-align: right;\n",
       "    }\n",
       "</style>\n",
       "<table border=\"1\" class=\"dataframe\">\n",
       "  <thead>\n",
       "    <tr style=\"text-align: right;\">\n",
       "      <th></th>\n",
       "      <th>transaction_id</th>\n",
       "      <th>visitor_id</th>\n",
       "      <th>date</th>\n",
       "      <th>revenue</th>\n",
       "      <th>group</th>\n",
       "    </tr>\n",
       "  </thead>\n",
       "  <tbody>\n",
       "    <tr>\n",
       "      <th>425</th>\n",
       "      <td>590470918</td>\n",
       "      <td>1920142716</td>\n",
       "      <td>2019-08-19</td>\n",
       "      <td>1294500</td>\n",
       "      <td>B</td>\n",
       "    </tr>\n",
       "    <tr>\n",
       "      <th>1196</th>\n",
       "      <td>3936777065</td>\n",
       "      <td>2108080724</td>\n",
       "      <td>2019-08-15</td>\n",
       "      <td>202740</td>\n",
       "      <td>B</td>\n",
       "    </tr>\n",
       "    <tr>\n",
       "      <th>858</th>\n",
       "      <td>192721366</td>\n",
       "      <td>1316129916</td>\n",
       "      <td>2019-08-27</td>\n",
       "      <td>93940</td>\n",
       "      <td>A</td>\n",
       "    </tr>\n",
       "    <tr>\n",
       "      <th>1136</th>\n",
       "      <td>666610489</td>\n",
       "      <td>1307669133</td>\n",
       "      <td>2019-08-13</td>\n",
       "      <td>92550</td>\n",
       "      <td>A</td>\n",
       "    </tr>\n",
       "    <tr>\n",
       "      <th>744</th>\n",
       "      <td>3668308183</td>\n",
       "      <td>888512513</td>\n",
       "      <td>2019-08-27</td>\n",
       "      <td>86620</td>\n",
       "      <td>B</td>\n",
       "    </tr>\n",
       "    <tr>\n",
       "      <th>682</th>\n",
       "      <td>1216533772</td>\n",
       "      <td>4266935830</td>\n",
       "      <td>2019-08-29</td>\n",
       "      <td>78990</td>\n",
       "      <td>B</td>\n",
       "    </tr>\n",
       "    <tr>\n",
       "      <th>662</th>\n",
       "      <td>1811671147</td>\n",
       "      <td>4266935830</td>\n",
       "      <td>2019-08-29</td>\n",
       "      <td>78990</td>\n",
       "      <td>A</td>\n",
       "    </tr>\n",
       "    <tr>\n",
       "      <th>743</th>\n",
       "      <td>3603576309</td>\n",
       "      <td>4133034833</td>\n",
       "      <td>2019-08-09</td>\n",
       "      <td>67990</td>\n",
       "      <td>A</td>\n",
       "    </tr>\n",
       "    <tr>\n",
       "      <th>1103</th>\n",
       "      <td>1348774318</td>\n",
       "      <td>1164614297</td>\n",
       "      <td>2019-08-12</td>\n",
       "      <td>66350</td>\n",
       "      <td>A</td>\n",
       "    </tr>\n",
       "    <tr>\n",
       "      <th>1099</th>\n",
       "      <td>316924019</td>\n",
       "      <td>148427295</td>\n",
       "      <td>2019-08-12</td>\n",
       "      <td>65710</td>\n",
       "      <td>A</td>\n",
       "    </tr>\n",
       "  </tbody>\n",
       "</table>\n",
       "</div>"
      ],
      "text/plain": [
       "      transaction_id  visitor_id       date  revenue group\n",
       "425        590470918  1920142716 2019-08-19  1294500     B\n",
       "1196      3936777065  2108080724 2019-08-15   202740     B\n",
       "858        192721366  1316129916 2019-08-27    93940     A\n",
       "1136       666610489  1307669133 2019-08-13    92550     A\n",
       "744       3668308183   888512513 2019-08-27    86620     B\n",
       "682       1216533772  4266935830 2019-08-29    78990     B\n",
       "662       1811671147  4266935830 2019-08-29    78990     A\n",
       "743       3603576309  4133034833 2019-08-09    67990     A\n",
       "1103      1348774318  1164614297 2019-08-12    66350     A\n",
       "1099       316924019   148427295 2019-08-12    65710     A"
      ]
     },
     "execution_count": 39,
     "metadata": {},
     "output_type": "execute_result"
    }
   ],
   "source": [
    "orders.sort_values(by='revenue', ascending=False).head(10)"
   ]
  },
  {
   "cell_type": "code",
   "execution_count": 40,
   "metadata": {},
   "outputs": [
    {
     "data": {
      "image/png": "[encoded data removed]",
      "text/plain": [
       "<Figure size 1152x648 with 1 Axes>"
      ]
     },
     "metadata": {
      "needs_background": "light"
     },
     "output_type": "display_data"
    }
   ],
   "source": [
    "x_values = pd.Series(range(0, len(orders['revenue'])))\n",
    "plt.rcParams[\"figure.figsize\"] = [16,9]\n",
    "plt.scatter(x_values, orders['revenue'])\n",
    "plt.xlabel('Количество пользователей', fontsize=16)\n",
    "plt.ylabel('Стоимость заказа', fontsize=16)\n",
    "\n",
    "plt.grid();"
   ]
  },
  {
   "cell_type": "markdown",
   "metadata": {},
   "source": [
    "Удалим 2 выброса и рассмотрим основную часть заказов."
   ]
  },
  {
   "cell_type": "code",
   "execution_count": 41,
   "metadata": {},
   "outputs": [
    {
     "data": {
      "image/png": "[encoded data removed]",
      "text/plain": [
       "<Figure size 1152x648 with 1 Axes>"
      ]
     },
     "metadata": {
      "needs_background": "light"
     },
     "output_type": "display_data"
    }
   ],
   "source": [
    "x_values = pd.Series(range(0, len(orders['revenue'])))\n",
    "plt.rcParams[\"figure.figsize\"] = [16,9]\n",
    "plt.scatter(x_values, orders['revenue'])\n",
    "plt.xlabel('Количество пользователей', fontsize=16)\n",
    "plt.ylabel('Стоимость заказа', fontsize=16)\n",
    "\n",
    "plt.grid()\n",
    "plt.axis([0, 1200, 0, 100000]);"
   ]
  },
  {
   "cell_type": "markdown",
   "metadata": {},
   "source": [
    "Вывод: заказов стоимость более 100 тысяч рублей практически нет. Есть 2 выброса в районе 200 тыс. и 1,3 млн. руб. Найдем выборочные перцентили."
   ]
  },
  {
   "cell_type": "markdown",
   "metadata": {},
   "source": [
    "9. Посчитайте 95-й и 99-й перцентили стоимости заказов. Выберите границу для определения аномальных заказов."
   ]
  },
  {
   "cell_type": "code",
   "execution_count": 42,
   "metadata": {},
   "outputs": [
    {
     "data": {
      "text/plain": [
       "array([18168. , 28000. , 58233.2])"
      ]
     },
     "execution_count": 42,
     "metadata": {},
     "output_type": "execute_result"
    }
   ],
   "source": [
    "np.percentile(orders['revenue'], [90, 95, 99])"
   ]
  },
  {
   "cell_type": "markdown",
   "metadata": {},
   "source": [
    "Выыод: не более, чем у 5% заказов чек дороже 28 тыс. руб. И не больше, чем у 1% заказов дороже 58 тыс. руб. Сумма 28 тыс. руб. будет границей для определения аномальных пользователей. "
   ]
  },
  {
   "cell_type": "markdown",
   "metadata": {},
   "source": [
    "10. Посчитайте статистическую значимость различий в конверсии между группами по «сырым» данным."
   ]
  },
  {
   "cell_type": "markdown",
   "metadata": {},
   "source": [
    "Сформулируем гипотезы. \n",
    "\n",
    "Нулевая: различий в среднем количестве заказов между группами нет. Альтернативная: различия в среднем между группами есть.\n",
    "\n",
    " **Метод, которым будем рассчитывать статистическую значимость, называется st.mannwhitneyu() (от англ. «U-критерий Манна-Уитни»). Вероятности получения разных значений критерия Манна-Уитни рассчитаны теоретически, что даёт возможность делать вывод о различии или его отсутствии для любого заданного уровня значимости.\n",
    "Критерий Манна — Уитни является непараметрическим методом. Главное отличие непараметрических методов в том, что они работают с рангами, — номерами значений в упорядоченном ряду, — никак не учитывая сами значения. Поэтому к ним прибегают тогда, когда работа с самими значениями невозможна из-за выбросов, сильно сдвигающих параметрические результаты. Также это метод позволяет выявлять различия в значении параметра между малыми выборками.**"
   ]
  },
  {
   "cell_type": "code",
   "execution_count": 43,
   "metadata": {},
   "outputs": [
    {
     "name": "stdout",
     "output_type": "stream",
     "text": [
      "p-значение:  0.016792355056752608\n",
      "Отвергаем нулевую гипотезу: разница статистически значима\n",
      "0.138\n"
     ]
    }
   ],
   "source": [
    "alpha = 0.05\n",
    "\n",
    "visitorsADaily = visitors[visitors['group'] == 'A'][['date', 'visitors']]\n",
    "visitorsADaily.columns = ['date', 'visitorsPerDateA']\n",
    "\n",
    "visitorsBDaily = visitors[visitors['group'] == 'B'][['date', 'visitors']]\n",
    "visitorsBDaily.columns = ['date', 'visitorsPerDateB']\n",
    "\n",
    "visitorsBCummulative = visitorsBDaily.apply(\n",
    "    lambda x: visitorsBDaily[visitorsBDaily['date'] <= x['date']].agg(\n",
    "        {'date': 'max', 'visitorsPerDateB': 'sum'}\n",
    "    ),\n",
    "    axis=1,\n",
    ")\n",
    "visitorsBCummulative.columns = ['date', 'visitorsCummulativeB']\n",
    "\n",
    "ordersADaily = (\n",
    "    orders[orders['group'] == 'A'][['date', 'transaction_id', 'visitor_id', 'revenue']]\n",
    "    .groupby('date', as_index=False)\n",
    "    .agg({'transaction_id': pd.Series.nunique, 'revenue': 'sum'})\n",
    ")\n",
    "ordersADaily.columns = ['date', 'ordersPerDateA', 'revenuePerDateA']\n",
    "\n",
    "\n",
    "\n",
    "ordersBDaily = (\n",
    "    orders[orders['group'] == 'B'][['date', 'transaction_id', 'visitor_id', 'revenue']]\n",
    "    .groupby('date', as_index=False)\n",
    "    .agg({'transaction_id': pd.Series.nunique, 'revenue': 'sum'})\n",
    ")\n",
    "ordersBDaily.columns = ['date', 'ordersPerDateB', 'revenuePerDateB']\n",
    "\n",
    "data = (\n",
    "    ordersADaily.merge(\n",
    "        ordersBDaily, left_on='date', right_on='date', how='left'\n",
    "    )\n",
    "    .merge(visitorsADaily, left_on='date', right_on='date', how='left')\n",
    "    .merge(visitorsBDaily, left_on='date', right_on='date', how='left')    \n",
    ")\n",
    "\n",
    "ordersByUsersA = (\n",
    "    orders[orders['group'] == 'A']\n",
    "    .groupby('visitor_id', as_index=False)\n",
    "    .agg({'transaction_id': pd.Series.nunique})\n",
    ")\n",
    "ordersByUsersA.columns = ['visitor_id', 'orders']\n",
    "\n",
    "ordersByUsersB = (\n",
    "    orders[orders['group'] == 'B']\n",
    "    .groupby('visitor_id', as_index=False)\n",
    "    .agg({'transaction_id': pd.Series.nunique})\n",
    ")\n",
    "ordersByUsersB.columns = ['visitor_id', 'orders']\n",
    "\n",
    "sampleA = pd.concat(\n",
    "    [\n",
    "        ordersByUsersA['orders'],\n",
    "        pd.Series(\n",
    "            0,\n",
    "            index=np.arange(\n",
    "                data['visitorsPerDateA'].sum() - len(ordersByUsersA['orders'])\n",
    "            ),\n",
    "            name='orders',\n",
    "        ),\n",
    "    ],\n",
    "    axis=0,\n",
    ")\n",
    "\n",
    "sampleB = pd.concat(\n",
    "    [\n",
    "        ordersByUsersB['orders'],\n",
    "        pd.Series(\n",
    "            0,\n",
    "            index=np.arange(\n",
    "                data['visitorsPerDateB'].sum() - len(ordersByUsersB['orders'])\n",
    "            ),\n",
    "            name='orders',\n",
    "        ),\n",
    "    ],\n",
    "    axis=0,\n",
    ")\n",
    "\n",
    "\n",
    "\n",
    "results = stats.mannwhitneyu(sampleA, sampleB)[1]\n",
    "\n",
    "print('p-значение: ', results)\n",
    "\n",
    "if results < alpha:\n",
    "    print('Отвергаем нулевую гипотезу: разница статистически значима')\n",
    "else:\n",
    "    print('Не получилось отвергнуть нулевую гипотезу, вывод о различии сделать нельзя') \n",
    "\n",
    "print(\"{0:.3f}\".format((data['ordersPerDateB'].sum()/data['visitorsPerDateB'].sum())/(data['ordersPerDateA'].sum()/data['visitorsPerDateA'].sum())-1))"
   ]
  },
  {
   "cell_type": "markdown",
   "metadata": {},
   "source": [
    "Относительный прирост среднего группы В к конверсии группы А равен 13.8%."
   ]
  },
  {
   "cell_type": "markdown",
   "metadata": {},
   "source": [
    "11. Посчитайте статистическую значимость различий в среднем чеке заказа между группами по «сырым» данным."
   ]
  },
  {
   "cell_type": "code",
   "execution_count": 44,
   "metadata": {},
   "outputs": [
    {
     "name": "stdout",
     "output_type": "stream",
     "text": [
      "p-значение:  0.7292909855432458\n",
      "Не получилось отвергнуть нулевую гипотезу, вывод о различии сделать нельзя\n",
      "0.259\n"
     ]
    }
   ],
   "source": [
    "results=stats.mannwhitneyu(orders[orders['group']=='A']['revenue'], orders[orders['group']=='B']['revenue'])[1]\n",
    "print('p-значение: ', results)\n",
    "\n",
    "if results < alpha:\n",
    "    print('Отвергаем нулевую гипотезу: разница статистически значима')\n",
    "else:\n",
    "    print('Не получилось отвергнуть нулевую гипотезу, вывод о различии сделать нельзя') \n",
    "print('{0:.3f}'.format(orders[orders['group']=='B']['revenue'].mean()/orders[orders['group']=='A']['revenue'].mean()-1))"
   ]
  },
  {
   "cell_type": "markdown",
   "metadata": {},
   "source": [
    "~~Относительное различие среднего чека между сегментами почти 26% - группа В по-прежнему выигрывает. ~~\n",
    "\n",
    "Cредний чек группы B значительно выше среднего чека группы A - почти на 26%."
   ]
  },
  {
   "cell_type": "markdown",
   "metadata": {},
   "source": [
    "# Очистка данных"
   ]
  },
  {
   "cell_type": "markdown",
   "metadata": {},
   "source": [
    "В качестве границ для определения аномалий возьмем значения, полученные в п. 7 и 9."
   ]
  },
  {
   "cell_type": "code",
   "execution_count": 45,
   "metadata": {},
   "outputs": [
    {
     "data": {
      "text/plain": [
       "1099    148427295\n",
       "18      199603092\n",
       "928     204675465\n",
       "23      237748145\n",
       "37      249864742\n",
       "Name: visitor_id, dtype: int64"
      ]
     },
     "execution_count": 45,
     "metadata": {},
     "output_type": "execute_result"
    }
   ],
   "source": [
    "typical_revenue = 28000\n",
    "typical_order_qty = 2\n",
    "\n",
    "ordersByUsersA = (\n",
    "    orders[orders['group'] == 'A']\n",
    "    .groupby('visitor_id', as_index=False)\n",
    "    .agg({'transaction_id': pd.Series.nunique})\n",
    ")\n",
    "ordersByUsersA.columns = ['visitor_id', 'orders']\n",
    "\n",
    "ordersByUsersB = (\n",
    "    orders[orders['group'] == 'B']\n",
    "    .groupby('visitor_id', as_index=False)\n",
    "    .agg({'transaction_id': pd.Series.nunique})\n",
    ")\n",
    "ordersByUsersB.columns = ['visitor_id', 'orders']\n",
    "\n",
    "\n",
    "usersWithManyOrders = pd.concat(\n",
    "    [\n",
    "        ordersByUsersA[ordersByUsersA['orders'] > typical_order_qty]['visitor_id'],\n",
    "        ordersByUsersB[ordersByUsersB['orders'] > typical_order_qty]['visitor_id'],\n",
    "    ],\n",
    "    axis=0,\n",
    ")\n",
    "usersWithExpensiveOrders = orders[orders['revenue'] > typical_revenue]['visitor_id']\n",
    "abnormalUsers = (\n",
    "    pd.concat([usersWithManyOrders, usersWithExpensiveOrders], axis=0)\n",
    "    .drop_duplicates()\n",
    "    .sort_values()\n",
    ")\n",
    "abnormalUsers.head(5)"
   ]
  },
  {
   "cell_type": "markdown",
   "metadata": {},
   "source": [
    "Теперь выясним есть ли существенные различия между группами с очищенными данными. "
   ]
  },
  {
   "cell_type": "markdown",
   "metadata": {},
   "source": [
    "12. Посчитайте статистическую значимость различий в конверсии между группами по «очищенным» данным. "
   ]
  },
  {
   "cell_type": "code",
   "execution_count": 47,
   "metadata": {},
   "outputs": [
    {
     "name": "stdout",
     "output_type": "stream",
     "text": [
      "p-значение:  0.013042592743036745\n",
      "Отвергаем нулевую гипотезу: разница статистически значима\n"
     ]
    }
   ],
   "source": [
    "usersWithManyOrders = pd.concat(\n",
    "    [\n",
    "        ordersByUsersA[ordersByUsersA['orders'] > typical_order_qty]['visitor_id'],\n",
    "        ordersByUsersB[ordersByUsersB['orders'] > typical_order_qty]['visitor_id'],\n",
    "    ],\n",
    "    axis=0,\n",
    ")\n",
    "usersWithExpensiveOrders = orders[orders['revenue'] > typical_revenue]['visitor_id']\n",
    "abnormalUsers = (\n",
    "    pd.concat([usersWithManyOrders, usersWithExpensiveOrders], axis=0)\n",
    "    .drop_duplicates()\n",
    "    .sort_values()\n",
    ")\n",
    "\n",
    "\n",
    "sampleAFiltered = pd.concat(\n",
    "    [\n",
    "        ordersByUsersA[\n",
    "            np.logical_not(ordersByUsersA['visitor_id'].isin(abnormalUsers))\n",
    "        ]['orders'],\n",
    "        pd.Series(\n",
    "            0,\n",
    "            index=np.arange(\n",
    "                data['visitorsPerDateA'].sum() - len(ordersByUsersA['orders'])\n",
    "            ),\n",
    "            name='orders',\n",
    "        ),\n",
    "    ],\n",
    "    axis=0,\n",
    ")\n",
    "\n",
    "sampleBFiltered = pd.concat(\n",
    "    [\n",
    "        ordersByUsersB[\n",
    "            np.logical_not(ordersByUsersB['visitor_id'].isin(abnormalUsers))\n",
    "        ]['orders'],\n",
    "        pd.Series(\n",
    "            0,\n",
    "            index=np.arange(\n",
    "                data['visitorsPerDateB'].sum() - len(ordersByUsersB['orders'])\n",
    "            ),\n",
    "            name='orders',\n",
    "        ),\n",
    "    ],\n",
    "    axis=0,\n",
    ")\n",
    "results=stats.mannwhitneyu(sampleAFiltered, sampleBFiltered)[1]\n",
    "print('p-значение: ', results)\n",
    "\n",
    "if results < alpha:\n",
    "    print('Отвергаем нулевую гипотезу: разница статистически значима')\n",
    "else:\n",
    "    print('Не получилось отвергнуть нулевую гипотезу, вывод о различии сделать нельзя') "
   ]
  },
  {
   "cell_type": "markdown",
   "metadata": {},
   "source": [
    "Как и в случае с \"сырыми данными\", статистическая значимость достигнута. Группа В значительно лучше группы А."
   ]
  },
  {
   "cell_type": "markdown",
   "metadata": {},
   "source": [
    "13. Посчитайте статистическую значимость различий в среднем чеке заказа между группами по «очищенным» данным."
   ]
  },
  {
   "cell_type": "code",
   "execution_count": 48,
   "metadata": {},
   "outputs": [
    {
     "name": "stdout",
     "output_type": "stream",
     "text": [
      "p-значение:  0.738481751314565\n",
      "Не получилось отвергнуть нулевую гипотезу, вывод о различии сделать нельзя\n",
      "-0.020\n"
     ]
    }
   ],
   "source": [
    "usersWithManyOrders = pd.concat(\n",
    "    [\n",
    "        ordersByUsersA[ordersByUsersA['orders'] > typical_order_qty]['visitor_id'],\n",
    "        ordersByUsersB[ordersByUsersB['orders'] > typical_order_qty]['visitor_id'],\n",
    "    ],\n",
    "    axis=0,\n",
    ")\n",
    "usersWithExpensiveOrders = orders[orders['revenue'] > typical_revenue]['visitor_id']\n",
    "abnormalUsers = (\n",
    "    pd.concat([usersWithManyOrders, usersWithExpensiveOrders], axis=0)\n",
    "    .drop_duplicates()\n",
    "    .sort_values()\n",
    ")\n",
    "results = stats.mannwhitneyu(\n",
    "            orders[\n",
    "                np.logical_and(\n",
    "                    orders['group'] == 'A',\n",
    "                    np.logical_not(orders['visitor_id'].isin(abnormalUsers)),\n",
    "                )\n",
    "            ]['revenue'],\n",
    "            orders[\n",
    "                np.logical_and(\n",
    "                    orders['group'] == 'B',\n",
    "                    np.logical_not(orders['visitor_id'].isin(abnormalUsers)),\n",
    "                )\n",
    "            ]['revenue'],\n",
    "        )[1]\n",
    "\n",
    "print('p-значение: ', results)\n",
    "\n",
    "if results < alpha:\n",
    "    print('Отвергаем нулевую гипотезу: разница статистически значима')\n",
    "else:\n",
    "    print('Не получилось отвергнуть нулевую гипотезу, вывод о различии сделать нельзя')\n",
    "    \n",
    "print(\n",
    "    \"{0:.3f}\".format(\n",
    "        orders[\n",
    "            np.logical_and(\n",
    "                orders['group'] == 'B',\n",
    "                np.logical_not(orders['visitor_id'].isin(abnormalUsers)),\n",
    "            )\n",
    "        ]['revenue'].mean()\n",
    "        / orders[\n",
    "            np.logical_and(\n",
    "                orders['group'] == 'A',\n",
    "                np.logical_not(orders['visitor_id'].isin(abnormalUsers)),\n",
    "            )\n",
    "        ]['revenue'].mean()\n",
    "        - 1\n",
    "    )\n",
    ")"
   ]
  },
  {
   "cell_type": "markdown",
   "metadata": {},
   "source": [
    "Теперь средний чек группы B незначительно ниже среднего чека группы A - всего на 2%."
   ]
  },
  {
   "cell_type": "markdown",
   "metadata": {},
   "source": [
    "14. Примите решение по результатам теста и объясните его. Варианты решений: 1. Остановить тест, зафиксировать победу одной из групп. 2. Остановить тест, зафиксировать отсутствие различий между группами. 3. Продолжить тест."
   ]
  },
  {
   "cell_type": "markdown",
   "metadata": {},
   "source": [
    "- Есть статистически значимое различие по конверсии между группами как по сырым данным, так и после фильтрации аномалий.\n",
    "\n",
    "- По сырым данным нет статистически значимого различия по среднему чеку между группами, такая же ситуация с данными после очистки.  \n",
    "\n",
    "\n",
    "\n",
    "**Группа В значимо лучше группы А по параметру \"Конверсия\" - фиксируем победу группы В (только по этому параметру).**"
   ]
  }
 ],
 "metadata": {
  "ExecuteTimeLog": [
   {
    "duration": 418,
    "start_time": "2022-10-07T11:44:19.084Z"
   },
   {
    "duration": 62,
    "start_time": "2022-10-07T11:45:11.399Z"
   },
   {
    "duration": 14,
    "start_time": "2022-10-07T11:45:21.663Z"
   },
   {
    "duration": 8,
    "start_time": "2022-10-07T11:47:34.384Z"
   },
   {
    "duration": 13,
    "start_time": "2022-10-07T11:47:42.720Z"
   },
   {
    "duration": 9,
    "start_time": "2022-10-07T11:48:04.848Z"
   },
   {
    "duration": 988,
    "start_time": "2022-10-07T11:48:37.489Z"
   },
   {
    "duration": 3,
    "start_time": "2022-10-07T11:50:53.017Z"
   },
   {
    "duration": 4,
    "start_time": "2022-10-07T11:51:04.328Z"
   },
   {
    "duration": 5,
    "start_time": "2022-10-07T11:51:08.489Z"
   },
   {
    "duration": 47,
    "start_time": "2022-10-07T11:51:17.168Z"
   },
   {
    "duration": 9,
    "start_time": "2022-10-07T11:51:26.280Z"
   },
   {
    "duration": 5,
    "start_time": "2022-10-07T11:51:55.456Z"
   },
   {
    "duration": 9,
    "start_time": "2022-10-07T11:52:03.581Z"
   },
   {
    "duration": 3,
    "start_time": "2022-10-07T11:53:36.825Z"
   },
   {
    "duration": 8,
    "start_time": "2022-10-07T11:53:41.825Z"
   },
   {
    "duration": 8,
    "start_time": "2022-10-07T11:53:44.807Z"
   },
   {
    "duration": 9,
    "start_time": "2022-10-07T11:54:40.360Z"
   },
   {
    "duration": 99,
    "start_time": "2022-10-07T12:11:21.259Z"
   },
   {
    "duration": 68,
    "start_time": "2022-10-07T12:11:37.057Z"
   },
   {
    "duration": 11,
    "start_time": "2022-10-07T12:12:06.443Z"
   },
   {
    "duration": 9,
    "start_time": "2022-10-07T12:12:18.308Z"
   },
   {
    "duration": 3,
    "start_time": "2022-10-07T12:16:59.797Z"
   },
   {
    "duration": 9,
    "start_time": "2022-10-07T12:17:02.804Z"
   },
   {
    "duration": 5,
    "start_time": "2022-10-07T12:17:27.388Z"
   },
   {
    "duration": 10,
    "start_time": "2022-10-07T12:17:29.507Z"
   },
   {
    "duration": 3,
    "start_time": "2022-10-07T12:18:08.836Z"
   },
   {
    "duration": 10,
    "start_time": "2022-10-07T12:18:16.107Z"
   },
   {
    "duration": 53,
    "start_time": "2022-10-07T12:18:32.943Z"
   },
   {
    "duration": 10,
    "start_time": "2022-10-07T12:18:38.364Z"
   },
   {
    "duration": 3,
    "start_time": "2022-10-07T12:18:47.475Z"
   },
   {
    "duration": 5,
    "start_time": "2022-10-07T12:18:48.499Z"
   },
   {
    "duration": 31,
    "start_time": "2022-10-07T12:18:49.084Z"
   },
   {
    "duration": 64,
    "start_time": "2022-10-07T12:18:52.068Z"
   },
   {
    "duration": 4,
    "start_time": "2022-10-07T12:19:05.940Z"
   },
   {
    "duration": 4,
    "start_time": "2022-10-07T12:19:07.093Z"
   },
   {
    "duration": 10,
    "start_time": "2022-10-07T12:19:09.319Z"
   },
   {
    "duration": 7,
    "start_time": "2022-10-07T12:19:19.628Z"
   },
   {
    "duration": 8,
    "start_time": "2022-10-07T12:19:38.931Z"
   },
   {
    "duration": 7,
    "start_time": "2022-10-07T12:19:49.724Z"
   },
   {
    "duration": 26,
    "start_time": "2022-10-07T12:19:51.733Z"
   },
   {
    "duration": 48,
    "start_time": "2022-10-07T12:19:53.430Z"
   },
   {
    "duration": 10,
    "start_time": "2022-10-07T12:20:24.548Z"
   },
   {
    "duration": 4,
    "start_time": "2022-10-07T12:20:55.044Z"
   },
   {
    "duration": 4,
    "start_time": "2022-10-07T12:21:13.292Z"
   },
   {
    "duration": 5,
    "start_time": "2022-10-07T12:39:11.823Z"
   },
   {
    "duration": 26,
    "start_time": "2022-10-07T12:40:42.584Z"
   },
   {
    "duration": 17,
    "start_time": "2022-10-07T12:42:05.656Z"
   },
   {
    "duration": 3,
    "start_time": "2022-10-07T12:42:20.815Z"
   },
   {
    "duration": 25,
    "start_time": "2022-10-07T12:42:25.743Z"
   },
   {
    "duration": 3,
    "start_time": "2022-10-07T12:42:36.487Z"
   },
   {
    "duration": 4,
    "start_time": "2022-10-07T12:42:37.551Z"
   },
   {
    "duration": 27,
    "start_time": "2022-10-07T12:42:37.767Z"
   },
   {
    "duration": 7,
    "start_time": "2022-10-07T12:42:37.952Z"
   },
   {
    "duration": 11,
    "start_time": "2022-10-07T12:42:38.110Z"
   },
   {
    "duration": 3,
    "start_time": "2022-10-07T12:42:38.607Z"
   },
   {
    "duration": 13,
    "start_time": "2022-10-07T12:42:42.543Z"
   },
   {
    "duration": 4,
    "start_time": "2022-10-07T12:42:43.327Z"
   },
   {
    "duration": 7,
    "start_time": "2022-10-07T12:42:43.478Z"
   },
   {
    "duration": 7,
    "start_time": "2022-10-07T12:42:43.607Z"
   },
   {
    "duration": 26,
    "start_time": "2022-10-07T12:42:43.743Z"
   },
   {
    "duration": 9,
    "start_time": "2022-10-07T12:42:43.870Z"
   },
   {
    "duration": 13,
    "start_time": "2022-10-07T12:42:44.167Z"
   },
   {
    "duration": 4,
    "start_time": "2022-10-07T12:42:44.478Z"
   },
   {
    "duration": 4,
    "start_time": "2022-10-07T12:42:44.703Z"
   },
   {
    "duration": 295,
    "start_time": "2022-10-07T12:42:44.984Z"
   },
   {
    "duration": 11,
    "start_time": "2022-10-07T12:43:35.983Z"
   },
   {
    "duration": 829,
    "start_time": "2022-10-07T12:44:00.343Z"
   },
   {
    "duration": 254,
    "start_time": "2022-10-07T12:44:04.880Z"
   },
   {
    "duration": 157,
    "start_time": "2022-10-07T12:44:36.279Z"
   },
   {
    "duration": 210,
    "start_time": "2022-10-07T12:45:02.753Z"
   },
   {
    "duration": 169,
    "start_time": "2022-10-07T12:45:10.375Z"
   },
   {
    "duration": 166,
    "start_time": "2022-10-07T12:47:44.759Z"
   },
   {
    "duration": 2,
    "start_time": "2022-10-07T12:48:33.936Z"
   },
   {
    "duration": 280,
    "start_time": "2022-10-07T12:49:32.048Z"
   },
   {
    "duration": 140,
    "start_time": "2022-10-07T12:50:44.449Z"
   },
   {
    "duration": 726,
    "start_time": "2022-10-07T12:52:12.617Z"
   },
   {
    "duration": 4,
    "start_time": "2022-10-07T12:52:32.777Z"
   },
   {
    "duration": 4,
    "start_time": "2022-10-07T12:52:40.657Z"
   },
   {
    "duration": 4,
    "start_time": "2022-10-07T12:52:48.617Z"
   },
   {
    "duration": 4,
    "start_time": "2022-10-07T12:53:01.129Z"
   },
   {
    "duration": 165,
    "start_time": "2022-10-07T12:53:26.322Z"
   },
   {
    "duration": 336,
    "start_time": "2022-10-07T12:54:44.889Z"
   },
   {
    "duration": 269,
    "start_time": "2022-10-07T12:56:02.954Z"
   },
   {
    "duration": 277,
    "start_time": "2022-10-07T12:56:39.208Z"
   },
   {
    "duration": 267,
    "start_time": "2022-10-07T12:56:45.178Z"
   },
   {
    "duration": 226,
    "start_time": "2022-10-07T12:56:57.548Z"
   },
   {
    "duration": 329,
    "start_time": "2022-10-07T12:57:53.066Z"
   },
   {
    "duration": 290,
    "start_time": "2022-10-07T12:58:19.091Z"
   },
   {
    "duration": 262,
    "start_time": "2022-10-07T13:08:56.662Z"
   },
   {
    "duration": 12,
    "start_time": "2022-10-07T13:10:48.116Z"
   },
   {
    "duration": 11,
    "start_time": "2022-10-07T13:11:38.612Z"
   },
   {
    "duration": 245,
    "start_time": "2022-10-07T13:11:48.252Z"
   },
   {
    "duration": 278,
    "start_time": "2022-10-07T13:11:54.547Z"
   },
   {
    "duration": 107,
    "start_time": "2022-10-07T13:19:45.484Z"
   },
   {
    "duration": 14,
    "start_time": "2022-10-07T13:20:22.381Z"
   },
   {
    "duration": 108,
    "start_time": "2022-10-07T13:20:25.260Z"
   },
   {
    "duration": 99,
    "start_time": "2022-10-07T13:21:10.357Z"
   },
   {
    "duration": 5,
    "start_time": "2022-10-07T13:21:52.332Z"
   },
   {
    "duration": 6,
    "start_time": "2022-10-07T13:25:01.133Z"
   },
   {
    "duration": 735,
    "start_time": "2022-10-07T13:32:36.663Z"
   },
   {
    "duration": 115,
    "start_time": "2022-10-07T13:32:57.654Z"
   },
   {
    "duration": 136,
    "start_time": "2022-10-07T13:33:02.270Z"
   },
   {
    "duration": 9,
    "start_time": "2022-10-07T13:34:07.110Z"
   },
   {
    "duration": 755,
    "start_time": "2022-10-07T13:35:09.750Z"
   },
   {
    "duration": 4,
    "start_time": "2022-10-07T13:35:15.335Z"
   },
   {
    "duration": 740,
    "start_time": "2022-10-10T12:33:43.418Z"
   },
   {
    "duration": 2,
    "start_time": "2022-10-10T12:33:44.160Z"
   },
   {
    "duration": 87,
    "start_time": "2022-10-10T12:33:44.164Z"
   },
   {
    "duration": 12,
    "start_time": "2022-10-10T12:33:44.252Z"
   },
   {
    "duration": 10,
    "start_time": "2022-10-10T12:33:44.266Z"
   },
   {
    "duration": 6,
    "start_time": "2022-10-10T12:33:44.277Z"
   },
   {
    "duration": 7,
    "start_time": "2022-10-10T12:33:44.284Z"
   },
   {
    "duration": 7,
    "start_time": "2022-10-10T12:33:44.292Z"
   },
   {
    "duration": 9,
    "start_time": "2022-10-10T12:33:44.301Z"
   },
   {
    "duration": 14,
    "start_time": "2022-10-10T12:33:44.312Z"
   },
   {
    "duration": 12,
    "start_time": "2022-10-10T12:33:44.327Z"
   },
   {
    "duration": 76,
    "start_time": "2022-10-10T12:33:44.341Z"
   },
   {
    "duration": 8,
    "start_time": "2022-10-10T12:33:44.420Z"
   },
   {
    "duration": 12,
    "start_time": "2022-10-10T12:33:44.431Z"
   },
   {
    "duration": 12,
    "start_time": "2022-10-10T12:33:44.445Z"
   },
   {
    "duration": 6,
    "start_time": "2022-10-10T12:33:44.459Z"
   },
   {
    "duration": 7,
    "start_time": "2022-10-10T12:33:44.467Z"
   },
   {
    "duration": 69,
    "start_time": "2022-10-10T12:33:44.475Z"
   },
   {
    "duration": 8,
    "start_time": "2022-10-10T12:33:44.546Z"
   },
   {
    "duration": 13,
    "start_time": "2022-10-10T12:33:44.555Z"
   },
   {
    "duration": 6,
    "start_time": "2022-10-10T12:33:44.570Z"
   },
   {
    "duration": 5,
    "start_time": "2022-10-10T12:33:44.577Z"
   },
   {
    "duration": 273,
    "start_time": "2022-10-10T12:33:44.584Z"
   },
   {
    "duration": 231,
    "start_time": "2022-10-10T12:33:44.858Z"
   },
   {
    "duration": 164,
    "start_time": "2022-10-10T12:33:45.091Z"
   },
   {
    "duration": 293,
    "start_time": "2022-10-10T12:33:45.257Z"
   },
   {
    "duration": 5,
    "start_time": "2022-10-10T12:33:45.552Z"
   },
   {
    "duration": 7,
    "start_time": "2022-10-10T12:33:45.558Z"
   },
   {
    "duration": 6,
    "start_time": "2022-10-10T12:33:45.566Z"
   },
   {
    "duration": 7,
    "start_time": "2022-10-10T12:33:45.573Z"
   },
   {
    "duration": 204,
    "start_time": "2022-10-10T12:33:45.581Z"
   },
   {
    "duration": 302,
    "start_time": "2022-10-10T12:33:45.787Z"
   },
   {
    "duration": 18,
    "start_time": "2022-10-10T12:33:46.090Z"
   },
   {
    "duration": 103,
    "start_time": "2022-10-10T12:33:46.110Z"
   },
   {
    "duration": 6,
    "start_time": "2022-10-10T12:33:46.215Z"
   },
   {
    "duration": 9,
    "start_time": "2022-10-10T12:33:46.222Z"
   },
   {
    "duration": 134,
    "start_time": "2022-10-10T12:33:46.233Z"
   },
   {
    "duration": 5,
    "start_time": "2022-10-10T12:33:46.368Z"
   },
   {
    "duration": 279,
    "start_time": "2022-10-10T13:01:17.138Z"
   },
   {
    "duration": 390,
    "start_time": "2022-10-10T13:01:57.019Z"
   },
   {
    "duration": 233,
    "start_time": "2022-10-10T13:02:00.119Z"
   },
   {
    "duration": 231,
    "start_time": "2022-10-10T13:03:42.906Z"
   },
   {
    "duration": 291,
    "start_time": "2022-10-10T13:07:57.028Z"
   },
   {
    "duration": 198,
    "start_time": "2022-10-10T13:08:06.548Z"
   },
   {
    "duration": 350,
    "start_time": "2022-10-10T13:08:32.635Z"
   },
   {
    "duration": 322,
    "start_time": "2022-10-10T13:08:50.811Z"
   },
   {
    "duration": 317,
    "start_time": "2022-10-10T13:09:02.555Z"
   },
   {
    "duration": 1410,
    "start_time": "2022-10-10T13:12:45.955Z"
   },
   {
    "duration": 332,
    "start_time": "2022-10-10T13:13:20.996Z"
   },
   {
    "duration": 1311,
    "start_time": "2022-10-10T13:13:23.763Z"
   },
   {
    "duration": 6,
    "start_time": "2022-10-10T13:14:17.603Z"
   },
   {
    "duration": 332,
    "start_time": "2022-10-10T13:14:18.835Z"
   },
   {
    "duration": 198,
    "start_time": "2022-10-10T13:14:19.899Z"
   },
   {
    "duration": 1386,
    "start_time": "2022-10-10T13:14:21.674Z"
   },
   {
    "duration": 1456,
    "start_time": "2022-10-10T13:15:19.524Z"
   },
   {
    "duration": 141,
    "start_time": "2022-10-10T13:16:15.821Z"
   },
   {
    "duration": 130,
    "start_time": "2022-10-10T13:16:32.260Z"
   },
   {
    "duration": 133,
    "start_time": "2022-10-10T13:16:40.387Z"
   },
   {
    "duration": 190,
    "start_time": "2022-10-10T13:16:47.389Z"
   },
   {
    "duration": 126,
    "start_time": "2022-10-10T13:16:49.132Z"
   },
   {
    "duration": 138,
    "start_time": "2022-10-10T13:16:53.900Z"
   },
   {
    "duration": 1774,
    "start_time": "2022-10-10T13:19:48.499Z"
   },
   {
    "duration": 1751,
    "start_time": "2022-10-10T13:21:11.653Z"
   },
   {
    "duration": 339,
    "start_time": "2022-10-10T13:21:56.565Z"
   },
   {
    "duration": 328,
    "start_time": "2022-10-10T13:22:02.285Z"
   },
   {
    "duration": 354,
    "start_time": "2022-10-10T13:25:03.644Z"
   },
   {
    "duration": 244,
    "start_time": "2022-10-10T13:25:14.781Z"
   },
   {
    "duration": 314,
    "start_time": "2022-10-10T13:25:28.599Z"
   },
   {
    "duration": 337,
    "start_time": "2022-10-10T13:28:52.294Z"
   },
   {
    "duration": 1494,
    "start_time": "2022-10-10T13:30:07.446Z"
   },
   {
    "duration": 19,
    "start_time": "2022-10-10T13:30:15.919Z"
   },
   {
    "duration": 14,
    "start_time": "2022-10-10T13:33:47.992Z"
   },
   {
    "duration": 15,
    "start_time": "2022-10-10T13:33:56.646Z"
   },
   {
    "duration": 14,
    "start_time": "2022-10-10T13:34:02.135Z"
   },
   {
    "duration": 317,
    "start_time": "2022-10-10T13:34:13.223Z"
   },
   {
    "duration": 128,
    "start_time": "2022-10-10T13:34:24.815Z"
   },
   {
    "duration": 196,
    "start_time": "2022-10-10T13:38:37.839Z"
   },
   {
    "duration": 120,
    "start_time": "2022-10-10T13:38:43.559Z"
   },
   {
    "duration": 111,
    "start_time": "2022-10-10T13:56:38.859Z"
   },
   {
    "duration": 72,
    "start_time": "2022-10-10T13:56:43.218Z"
   },
   {
    "duration": 1258,
    "start_time": "2022-10-10T13:56:48.274Z"
   },
   {
    "duration": 16,
    "start_time": "2022-10-10T13:57:14.363Z"
   },
   {
    "duration": 17,
    "start_time": "2022-10-10T13:57:38.400Z"
   },
   {
    "duration": 324,
    "start_time": "2022-10-10T13:57:43.938Z"
   },
   {
    "duration": 184,
    "start_time": "2022-10-10T13:57:50.202Z"
   },
   {
    "duration": 315,
    "start_time": "2022-10-10T13:57:53.956Z"
   },
   {
    "duration": 13,
    "start_time": "2022-10-10T14:03:55.668Z"
   },
   {
    "duration": 390,
    "start_time": "2022-10-10T14:03:59.067Z"
   },
   {
    "duration": 137,
    "start_time": "2022-10-10T14:04:04.316Z"
   },
   {
    "duration": 216,
    "start_time": "2022-10-10T14:04:08.873Z"
   },
   {
    "duration": 345,
    "start_time": "2022-10-10T14:04:15.747Z"
   },
   {
    "duration": 312,
    "start_time": "2022-10-10T14:18:08.378Z"
   },
   {
    "duration": 346,
    "start_time": "2022-10-10T14:18:38.687Z"
   },
   {
    "duration": 349,
    "start_time": "2022-10-10T14:18:46.164Z"
   },
   {
    "duration": 325,
    "start_time": "2022-10-10T14:19:03.387Z"
   },
   {
    "duration": 14,
    "start_time": "2022-10-10T14:19:46.156Z"
   },
   {
    "duration": 227,
    "start_time": "2022-10-10T14:20:19.084Z"
   },
   {
    "duration": 16,
    "start_time": "2022-10-10T14:20:29.039Z"
   },
   {
    "duration": 327,
    "start_time": "2022-10-10T14:20:53.525Z"
   },
   {
    "duration": 226,
    "start_time": "2022-10-10T14:21:18.893Z"
   },
   {
    "duration": 215,
    "start_time": "2022-10-10T14:21:36.301Z"
   },
   {
    "duration": 342,
    "start_time": "2022-10-10T14:22:05.956Z"
   },
   {
    "duration": 5,
    "start_time": "2022-10-10T14:22:53.141Z"
   },
   {
    "duration": 5,
    "start_time": "2022-10-10T14:22:59.053Z"
   },
   {
    "duration": 10,
    "start_time": "2022-10-10T14:23:33.038Z"
   },
   {
    "duration": 10,
    "start_time": "2022-10-10T14:23:40.117Z"
   },
   {
    "duration": 10,
    "start_time": "2022-10-10T14:23:46.469Z"
   },
   {
    "duration": 112,
    "start_time": "2022-10-10T14:27:34.566Z"
   },
   {
    "duration": 9,
    "start_time": "2022-10-10T14:27:48.558Z"
   },
   {
    "duration": 31,
    "start_time": "2022-10-10T14:31:44.662Z"
   },
   {
    "duration": 16,
    "start_time": "2022-10-10T14:32:05.921Z"
   },
   {
    "duration": 160,
    "start_time": "2022-10-10T14:43:30.447Z"
   },
   {
    "duration": 157,
    "start_time": "2022-10-10T14:43:34.089Z"
   },
   {
    "duration": 186,
    "start_time": "2022-10-10T14:43:44.863Z"
   },
   {
    "duration": 159,
    "start_time": "2022-10-10T14:43:48.535Z"
   },
   {
    "duration": 157,
    "start_time": "2022-10-10T14:43:51.760Z"
   },
   {
    "duration": 196,
    "start_time": "2022-10-10T14:44:54.494Z"
   },
   {
    "duration": 3,
    "start_time": "2022-10-10T14:45:07.167Z"
   },
   {
    "duration": 176,
    "start_time": "2022-10-10T14:45:11.351Z"
   },
   {
    "duration": 175,
    "start_time": "2022-10-10T14:45:17.774Z"
   },
   {
    "duration": 271,
    "start_time": "2022-10-10T14:45:27.216Z"
   },
   {
    "duration": 159,
    "start_time": "2022-10-10T14:45:31.848Z"
   },
   {
    "duration": 171,
    "start_time": "2022-10-10T14:46:07.582Z"
   },
   {
    "duration": 142,
    "start_time": "2022-10-10T14:46:12.615Z"
   },
   {
    "duration": 130,
    "start_time": "2022-10-10T14:46:19.839Z"
   },
   {
    "duration": 173,
    "start_time": "2022-10-10T14:46:36.416Z"
   },
   {
    "duration": 160,
    "start_time": "2022-10-10T14:46:42.031Z"
   },
   {
    "duration": 151,
    "start_time": "2022-10-10T14:46:45.583Z"
   },
   {
    "duration": 162,
    "start_time": "2022-10-10T14:46:48.807Z"
   },
   {
    "duration": 149,
    "start_time": "2022-10-10T14:46:52.383Z"
   },
   {
    "duration": 149,
    "start_time": "2022-10-10T14:46:54.991Z"
   },
   {
    "duration": 138,
    "start_time": "2022-10-10T14:47:09.383Z"
   },
   {
    "duration": 149,
    "start_time": "2022-10-10T14:47:44.231Z"
   },
   {
    "duration": 153,
    "start_time": "2022-10-10T14:47:47.615Z"
   },
   {
    "duration": 149,
    "start_time": "2022-10-10T14:47:53.456Z"
   },
   {
    "duration": 158,
    "start_time": "2022-10-10T14:47:58.399Z"
   },
   {
    "duration": 3,
    "start_time": "2022-10-10T14:48:04.135Z"
   },
   {
    "duration": 27,
    "start_time": "2022-10-10T14:49:30.775Z"
   },
   {
    "duration": 8,
    "start_time": "2022-10-10T14:49:53.518Z"
   },
   {
    "duration": 2,
    "start_time": "2022-10-10T14:51:38.744Z"
   },
   {
    "duration": 3,
    "start_time": "2022-10-10T14:52:52.543Z"
   },
   {
    "duration": 17,
    "start_time": "2022-10-10T14:54:39.801Z"
   },
   {
    "duration": 3,
    "start_time": "2022-10-10T14:54:56.117Z"
   },
   {
    "duration": 2,
    "start_time": "2022-10-10T14:54:56.327Z"
   },
   {
    "duration": 27,
    "start_time": "2022-10-10T14:54:56.944Z"
   },
   {
    "duration": 8,
    "start_time": "2022-10-10T14:54:57.279Z"
   },
   {
    "duration": 10,
    "start_time": "2022-10-10T14:54:58.431Z"
   },
   {
    "duration": 3,
    "start_time": "2022-10-10T14:54:58.839Z"
   },
   {
    "duration": 5,
    "start_time": "2022-10-10T14:54:59.218Z"
   },
   {
    "duration": 4,
    "start_time": "2022-10-10T14:55:00.020Z"
   },
   {
    "duration": 8,
    "start_time": "2022-10-10T14:55:00.560Z"
   },
   {
    "duration": 1600,
    "start_time": "2022-10-11T08:36:00.236Z"
   },
   {
    "duration": 3,
    "start_time": "2022-10-11T08:36:01.838Z"
   },
   {
    "duration": 84,
    "start_time": "2022-10-11T08:36:01.843Z"
   },
   {
    "duration": 13,
    "start_time": "2022-10-11T08:36:01.929Z"
   },
   {
    "duration": 38,
    "start_time": "2022-10-11T08:36:01.944Z"
   },
   {
    "duration": 13,
    "start_time": "2022-10-11T08:36:01.983Z"
   },
   {
    "duration": 13,
    "start_time": "2022-10-11T08:36:01.998Z"
   },
   {
    "duration": 20,
    "start_time": "2022-10-11T08:36:02.013Z"
   },
   {
    "duration": 16,
    "start_time": "2022-10-11T08:36:02.034Z"
   },
   {
    "duration": 16,
    "start_time": "2022-10-11T08:36:02.053Z"
   },
   {
    "duration": 17,
    "start_time": "2022-10-11T08:36:02.070Z"
   },
   {
    "duration": 105,
    "start_time": "2022-10-11T08:36:02.089Z"
   },
   {
    "duration": 8,
    "start_time": "2022-10-11T08:36:02.195Z"
   },
   {
    "duration": 15,
    "start_time": "2022-10-11T08:36:02.204Z"
   },
   {
    "duration": 9,
    "start_time": "2022-10-11T08:36:02.220Z"
   },
   {
    "duration": 6,
    "start_time": "2022-10-11T08:36:02.231Z"
   },
   {
    "duration": 12,
    "start_time": "2022-10-11T08:36:02.239Z"
   },
   {
    "duration": 58,
    "start_time": "2022-10-11T08:36:02.254Z"
   },
   {
    "duration": 12,
    "start_time": "2022-10-11T08:36:02.315Z"
   },
   {
    "duration": 20,
    "start_time": "2022-10-11T08:36:02.329Z"
   },
   {
    "duration": 9,
    "start_time": "2022-10-11T08:36:02.351Z"
   },
   {
    "duration": 7,
    "start_time": "2022-10-11T08:36:02.361Z"
   },
   {
    "duration": 301,
    "start_time": "2022-10-11T08:36:02.370Z"
   },
   {
    "duration": 261,
    "start_time": "2022-10-11T08:36:02.673Z"
   },
   {
    "duration": 189,
    "start_time": "2022-10-11T08:36:02.935Z"
   },
   {
    "duration": 299,
    "start_time": "2022-10-11T08:36:03.126Z"
   },
   {
    "duration": 4,
    "start_time": "2022-10-11T08:36:03.427Z"
   },
   {
    "duration": 9,
    "start_time": "2022-10-11T08:36:03.434Z"
   },
   {
    "duration": 10,
    "start_time": "2022-10-11T08:36:03.444Z"
   },
   {
    "duration": 23,
    "start_time": "2022-10-11T08:36:03.456Z"
   },
   {
    "duration": 189,
    "start_time": "2022-10-11T08:36:03.481Z"
   },
   {
    "duration": 330,
    "start_time": "2022-10-11T08:36:03.671Z"
   },
   {
    "duration": 12,
    "start_time": "2022-10-11T08:36:04.003Z"
   },
   {
    "duration": 124,
    "start_time": "2022-10-11T08:36:04.017Z"
   },
   {
    "duration": 5,
    "start_time": "2022-10-11T08:36:04.142Z"
   },
   {
    "duration": 25,
    "start_time": "2022-10-11T08:36:04.149Z"
   },
   {
    "duration": 132,
    "start_time": "2022-10-11T08:36:04.176Z"
   },
   {
    "duration": 5,
    "start_time": "2022-10-11T08:36:04.310Z"
   },
   {
    "duration": 357,
    "start_time": "2022-10-11T08:36:04.317Z"
   },
   {
    "duration": 19,
    "start_time": "2022-10-11T08:36:04.676Z"
   },
   {
    "duration": 143,
    "start_time": "2022-10-11T08:36:04.697Z"
   },
   {
    "duration": 52,
    "start_time": "2022-10-11T08:36:04.843Z"
   },
   {
    "duration": 15,
    "start_time": "2022-10-11T08:36:04.897Z"
   },
   {
    "duration": 11,
    "start_time": "2022-10-11T08:46:11.919Z"
   },
   {
    "duration": 2,
    "start_time": "2022-10-11T08:55:30.943Z"
   },
   {
    "duration": 179,
    "start_time": "2022-10-11T09:06:37.442Z"
   },
   {
    "duration": 324,
    "start_time": "2022-10-11T09:09:19.561Z"
   },
   {
    "duration": 293,
    "start_time": "2022-10-11T09:10:00.865Z"
   },
   {
    "duration": 248,
    "start_time": "2022-10-11T09:10:05.849Z"
   },
   {
    "duration": 290,
    "start_time": "2022-10-11T09:10:36.409Z"
   },
   {
    "duration": 206,
    "start_time": "2022-10-11T09:14:16.064Z"
   },
   {
    "duration": 177,
    "start_time": "2022-10-11T09:14:19.384Z"
   },
   {
    "duration": 230,
    "start_time": "2022-10-11T09:14:26.511Z"
   },
   {
    "duration": 350,
    "start_time": "2022-10-11T09:20:02.074Z"
   },
   {
    "duration": 273,
    "start_time": "2022-10-11T09:20:10.025Z"
   },
   {
    "duration": 315,
    "start_time": "2022-10-11T09:20:13.057Z"
   },
   {
    "duration": 10,
    "start_time": "2022-10-11T09:28:09.307Z"
   },
   {
    "duration": 125,
    "start_time": "2022-10-11T09:28:13.467Z"
   },
   {
    "duration": 142,
    "start_time": "2022-10-11T09:31:41.693Z"
   },
   {
    "duration": 379,
    "start_time": "2022-10-11T09:35:59.886Z"
   },
   {
    "duration": 356,
    "start_time": "2022-10-11T09:39:58.928Z"
   },
   {
    "duration": 402,
    "start_time": "2022-10-11T09:40:13.768Z"
   },
   {
    "duration": 16,
    "start_time": "2022-10-11T09:41:51.408Z"
   },
   {
    "duration": 150,
    "start_time": "2022-10-11T09:47:19.074Z"
   },
   {
    "duration": 140,
    "start_time": "2022-10-11T09:47:48.968Z"
   },
   {
    "duration": 31,
    "start_time": "2022-10-11T10:29:40.328Z"
   },
   {
    "duration": 19,
    "start_time": "2022-10-11T10:30:32.009Z"
   },
   {
    "duration": 1448,
    "start_time": "2022-10-11T10:32:33.569Z"
   },
   {
    "duration": 21,
    "start_time": "2022-10-11T10:32:44.667Z"
   },
   {
    "duration": 1266,
    "start_time": "2022-10-11T10:50:55.607Z"
   },
   {
    "duration": 3,
    "start_time": "2022-10-11T10:50:56.876Z"
   },
   {
    "duration": 89,
    "start_time": "2022-10-11T10:50:56.881Z"
   },
   {
    "duration": 17,
    "start_time": "2022-10-11T10:50:56.973Z"
   },
   {
    "duration": 68,
    "start_time": "2022-10-11T10:50:56.992Z"
   },
   {
    "duration": 38,
    "start_time": "2022-10-11T10:50:57.063Z"
   },
   {
    "duration": 20,
    "start_time": "2022-10-11T10:50:57.103Z"
   },
   {
    "duration": 6,
    "start_time": "2022-10-11T10:50:57.125Z"
   },
   {
    "duration": 10,
    "start_time": "2022-10-11T10:50:57.132Z"
   },
   {
    "duration": 4,
    "start_time": "2022-10-11T10:50:57.145Z"
   },
   {
    "duration": 14,
    "start_time": "2022-10-11T10:50:57.151Z"
   },
   {
    "duration": 41,
    "start_time": "2022-10-11T10:50:57.167Z"
   },
   {
    "duration": 14,
    "start_time": "2022-10-11T10:50:57.211Z"
   },
   {
    "duration": 18,
    "start_time": "2022-10-11T10:50:57.227Z"
   },
   {
    "duration": 9,
    "start_time": "2022-10-11T10:50:57.247Z"
   },
   {
    "duration": 5,
    "start_time": "2022-10-11T10:50:57.258Z"
   },
   {
    "duration": 9,
    "start_time": "2022-10-11T10:50:57.265Z"
   },
   {
    "duration": 25,
    "start_time": "2022-10-11T10:50:57.276Z"
   },
   {
    "duration": 22,
    "start_time": "2022-10-11T10:50:57.303Z"
   },
   {
    "duration": 14,
    "start_time": "2022-10-11T10:50:57.327Z"
   },
   {
    "duration": 10,
    "start_time": "2022-10-11T10:50:57.343Z"
   },
   {
    "duration": 8,
    "start_time": "2022-10-11T10:50:57.355Z"
   },
   {
    "duration": 319,
    "start_time": "2022-10-11T10:50:57.365Z"
   },
   {
    "duration": 292,
    "start_time": "2022-10-11T10:50:57.686Z"
   },
   {
    "duration": 205,
    "start_time": "2022-10-11T10:50:57.979Z"
   },
   {
    "duration": 312,
    "start_time": "2022-10-11T10:50:58.186Z"
   },
   {
    "duration": 8,
    "start_time": "2022-10-11T10:50:58.500Z"
   },
   {
    "duration": 15,
    "start_time": "2022-10-11T10:50:58.513Z"
   },
   {
    "duration": 8,
    "start_time": "2022-10-11T10:50:58.530Z"
   },
   {
    "duration": 10,
    "start_time": "2022-10-11T10:50:58.540Z"
   },
   {
    "duration": 224,
    "start_time": "2022-10-11T10:50:58.552Z"
   },
   {
    "duration": 342,
    "start_time": "2022-10-11T10:50:58.778Z"
   },
   {
    "duration": 13,
    "start_time": "2022-10-11T10:50:59.122Z"
   },
   {
    "duration": 141,
    "start_time": "2022-10-11T10:50:59.137Z"
   },
   {
    "duration": 5,
    "start_time": "2022-10-11T10:50:59.281Z"
   },
   {
    "duration": 21,
    "start_time": "2022-10-11T10:50:59.288Z"
   },
   {
    "duration": 155,
    "start_time": "2022-10-11T10:50:59.312Z"
   },
   {
    "duration": 6,
    "start_time": "2022-10-11T10:50:59.469Z"
   },
   {
    "duration": 423,
    "start_time": "2022-10-11T10:50:59.477Z"
   },
   {
    "duration": 20,
    "start_time": "2022-10-11T10:50:59.902Z"
   },
   {
    "duration": 158,
    "start_time": "2022-10-11T10:50:59.924Z"
   },
   {
    "duration": 43,
    "start_time": "2022-10-11T10:51:00.083Z"
   },
   {
    "duration": 22,
    "start_time": "2022-10-11T10:51:00.128Z"
   },
   {
    "duration": 1363,
    "start_time": "2022-10-11T11:04:36.155Z"
   },
   {
    "duration": 3,
    "start_time": "2022-10-11T11:04:37.520Z"
   },
   {
    "duration": 82,
    "start_time": "2022-10-11T11:04:37.525Z"
   },
   {
    "duration": 14,
    "start_time": "2022-10-11T11:04:37.609Z"
   },
   {
    "duration": 19,
    "start_time": "2022-10-11T11:04:37.626Z"
   },
   {
    "duration": 31,
    "start_time": "2022-10-11T11:04:37.646Z"
   },
   {
    "duration": 8,
    "start_time": "2022-10-11T11:04:37.678Z"
   },
   {
    "duration": 8,
    "start_time": "2022-10-11T11:04:37.688Z"
   },
   {
    "duration": 12,
    "start_time": "2022-10-11T11:04:37.697Z"
   },
   {
    "duration": 10,
    "start_time": "2022-10-11T11:04:37.711Z"
   },
   {
    "duration": 19,
    "start_time": "2022-10-11T11:04:37.722Z"
   },
   {
    "duration": 68,
    "start_time": "2022-10-11T11:04:37.743Z"
   },
   {
    "duration": 8,
    "start_time": "2022-10-11T11:04:37.813Z"
   },
   {
    "duration": 18,
    "start_time": "2022-10-11T11:04:37.825Z"
   },
   {
    "duration": 7,
    "start_time": "2022-10-11T11:04:37.844Z"
   },
   {
    "duration": 5,
    "start_time": "2022-10-11T11:04:37.853Z"
   },
   {
    "duration": 10,
    "start_time": "2022-10-11T11:04:37.859Z"
   },
   {
    "duration": 54,
    "start_time": "2022-10-11T11:04:37.870Z"
   },
   {
    "duration": 8,
    "start_time": "2022-10-11T11:04:37.926Z"
   },
   {
    "duration": 17,
    "start_time": "2022-10-11T11:04:37.935Z"
   },
   {
    "duration": 10,
    "start_time": "2022-10-11T11:04:37.954Z"
   },
   {
    "duration": 9,
    "start_time": "2022-10-11T11:04:37.965Z"
   },
   {
    "duration": 286,
    "start_time": "2022-10-11T11:04:37.975Z"
   },
   {
    "duration": 240,
    "start_time": "2022-10-11T11:04:38.263Z"
   },
   {
    "duration": 157,
    "start_time": "2022-10-11T11:04:38.505Z"
   },
   {
    "duration": 322,
    "start_time": "2022-10-11T11:04:38.664Z"
   },
   {
    "duration": 4,
    "start_time": "2022-10-11T11:04:38.988Z"
   },
   {
    "duration": 9,
    "start_time": "2022-10-11T11:04:38.994Z"
   },
   {
    "duration": 5,
    "start_time": "2022-10-11T11:04:39.004Z"
   },
   {
    "duration": 8,
    "start_time": "2022-10-11T11:04:39.010Z"
   },
   {
    "duration": 191,
    "start_time": "2022-10-11T11:04:39.019Z"
   },
   {
    "duration": 268,
    "start_time": "2022-10-11T11:04:39.212Z"
   },
   {
    "duration": 10,
    "start_time": "2022-10-11T11:04:39.485Z"
   },
   {
    "duration": 106,
    "start_time": "2022-10-11T11:04:39.497Z"
   },
   {
    "duration": 5,
    "start_time": "2022-10-11T11:04:39.605Z"
   },
   {
    "duration": 12,
    "start_time": "2022-10-11T11:04:39.611Z"
   },
   {
    "duration": 126,
    "start_time": "2022-10-11T11:04:39.625Z"
   },
   {
    "duration": 4,
    "start_time": "2022-10-11T11:04:39.752Z"
   },
   {
    "duration": 350,
    "start_time": "2022-10-11T11:04:39.758Z"
   },
   {
    "duration": 11,
    "start_time": "2022-10-11T11:04:40.109Z"
   },
   {
    "duration": 147,
    "start_time": "2022-10-11T11:04:40.123Z"
   },
   {
    "duration": 38,
    "start_time": "2022-10-11T11:04:40.272Z"
   },
   {
    "duration": 17,
    "start_time": "2022-10-11T11:04:40.312Z"
   },
   {
    "duration": 1276,
    "start_time": "2022-10-11T14:19:17.386Z"
   },
   {
    "duration": 2,
    "start_time": "2022-10-11T14:19:18.664Z"
   },
   {
    "duration": 57,
    "start_time": "2022-10-11T14:19:19.471Z"
   },
   {
    "duration": 13,
    "start_time": "2022-10-11T14:19:20.585Z"
   },
   {
    "duration": 11,
    "start_time": "2022-10-11T14:19:24.614Z"
   },
   {
    "duration": 3,
    "start_time": "2022-10-11T14:19:25.343Z"
   },
   {
    "duration": 4,
    "start_time": "2022-10-11T14:19:25.814Z"
   },
   {
    "duration": 108,
    "start_time": "2022-10-11T14:19:36.785Z"
   },
   {
    "duration": 4,
    "start_time": "2022-10-11T14:19:55.553Z"
   },
   {
    "duration": 9,
    "start_time": "2022-10-11T14:20:00.808Z"
   },
   {
    "duration": 8,
    "start_time": "2022-10-11T14:20:26.509Z"
   },
   {
    "duration": 14,
    "start_time": "2022-10-11T14:20:47.088Z"
   },
   {
    "duration": 8,
    "start_time": "2022-10-11T14:21:41.392Z"
   },
   {
    "duration": 73,
    "start_time": "2022-10-11T14:21:52.288Z"
   },
   {
    "duration": 3,
    "start_time": "2022-10-11T14:22:02.008Z"
   },
   {
    "duration": 10,
    "start_time": "2022-10-11T14:22:24.336Z"
   },
   {
    "duration": 50,
    "start_time": "2022-10-11T14:23:22.929Z"
   },
   {
    "duration": 7,
    "start_time": "2022-10-11T14:24:48.225Z"
   },
   {
    "duration": 12,
    "start_time": "2022-10-11T14:24:50.986Z"
   },
   {
    "duration": 124,
    "start_time": "2022-10-11T14:27:02.642Z"
   },
   {
    "duration": 11,
    "start_time": "2022-10-11T14:41:34.171Z"
   },
   {
    "duration": 4,
    "start_time": "2022-10-11T14:41:55.786Z"
   },
   {
    "duration": 5,
    "start_time": "2022-10-11T14:41:55.798Z"
   },
   {
    "duration": 51,
    "start_time": "2022-10-11T14:41:55.805Z"
   },
   {
    "duration": 7,
    "start_time": "2022-10-11T14:41:55.858Z"
   },
   {
    "duration": 20,
    "start_time": "2022-10-11T14:41:55.867Z"
   },
   {
    "duration": 5,
    "start_time": "2022-10-11T14:41:55.890Z"
   },
   {
    "duration": 21,
    "start_time": "2022-10-11T14:41:55.896Z"
   },
   {
    "duration": 29,
    "start_time": "2022-10-11T14:41:55.920Z"
   },
   {
    "duration": 18,
    "start_time": "2022-10-11T14:41:55.951Z"
   },
   {
    "duration": 10,
    "start_time": "2022-10-11T14:41:55.971Z"
   },
   {
    "duration": 12,
    "start_time": "2022-10-11T14:41:55.983Z"
   },
   {
    "duration": 22,
    "start_time": "2022-10-11T14:41:55.997Z"
   },
   {
    "duration": 98,
    "start_time": "2022-10-11T14:41:56.028Z"
   },
   {
    "duration": 9,
    "start_time": "2022-10-11T14:41:56.129Z"
   },
   {
    "duration": 25,
    "start_time": "2022-10-11T14:41:56.140Z"
   },
   {
    "duration": 17,
    "start_time": "2022-10-11T14:41:56.167Z"
   },
   {
    "duration": 10,
    "start_time": "2022-10-11T14:41:56.186Z"
   },
   {
    "duration": 39,
    "start_time": "2022-10-11T14:41:56.198Z"
   },
   {
    "duration": 54,
    "start_time": "2022-10-11T14:41:56.240Z"
   },
   {
    "duration": 10,
    "start_time": "2022-10-11T14:41:56.296Z"
   },
   {
    "duration": 34,
    "start_time": "2022-10-11T14:41:56.308Z"
   },
   {
    "duration": 15,
    "start_time": "2022-10-11T14:41:56.344Z"
   },
   {
    "duration": 13,
    "start_time": "2022-10-11T14:42:39.994Z"
   },
   {
    "duration": 9,
    "start_time": "2022-10-11T14:43:35.580Z"
   },
   {
    "duration": 11,
    "start_time": "2022-10-11T14:46:32.845Z"
   },
   {
    "duration": 14,
    "start_time": "2022-10-11T14:46:42.436Z"
   },
   {
    "duration": 16,
    "start_time": "2022-10-11T14:50:31.005Z"
   },
   {
    "duration": 132,
    "start_time": "2022-10-11T14:54:56.533Z"
   },
   {
    "duration": 1289,
    "start_time": "2022-10-12T06:34:24.990Z"
   },
   {
    "duration": 3,
    "start_time": "2022-10-12T06:34:26.282Z"
   },
   {
    "duration": 80,
    "start_time": "2022-10-12T06:34:26.287Z"
   },
   {
    "duration": 16,
    "start_time": "2022-10-12T06:34:26.370Z"
   },
   {
    "duration": 59,
    "start_time": "2022-10-12T06:34:26.388Z"
   },
   {
    "duration": 3,
    "start_time": "2022-10-12T06:34:26.448Z"
   },
   {
    "duration": 15,
    "start_time": "2022-10-12T06:34:26.452Z"
   },
   {
    "duration": 6,
    "start_time": "2022-10-12T06:34:26.469Z"
   },
   {
    "duration": 6,
    "start_time": "2022-10-12T06:34:26.477Z"
   },
   {
    "duration": 15,
    "start_time": "2022-10-12T06:34:26.485Z"
   },
   {
    "duration": 26,
    "start_time": "2022-10-12T06:34:26.501Z"
   },
   {
    "duration": 27,
    "start_time": "2022-10-12T06:34:26.529Z"
   },
   {
    "duration": 96,
    "start_time": "2022-10-12T06:34:26.558Z"
   },
   {
    "duration": 7,
    "start_time": "2022-10-12T06:34:26.655Z"
   },
   {
    "duration": 28,
    "start_time": "2022-10-12T06:34:26.663Z"
   },
   {
    "duration": 21,
    "start_time": "2022-10-12T06:34:26.693Z"
   },
   {
    "duration": 19,
    "start_time": "2022-10-12T06:34:26.716Z"
   },
   {
    "duration": 36,
    "start_time": "2022-10-12T06:34:26.737Z"
   },
   {
    "duration": 83,
    "start_time": "2022-10-12T06:34:26.774Z"
   },
   {
    "duration": 10,
    "start_time": "2022-10-12T06:34:26.859Z"
   },
   {
    "duration": 20,
    "start_time": "2022-10-12T06:34:26.871Z"
   },
   {
    "duration": 23,
    "start_time": "2022-10-12T06:34:26.893Z"
   },
   {
    "duration": 22,
    "start_time": "2022-10-12T06:34:26.917Z"
   },
   {
    "duration": 17,
    "start_time": "2022-10-12T06:34:26.940Z"
   },
   {
    "duration": 286,
    "start_time": "2022-10-12T06:34:26.960Z"
   },
   {
    "duration": 234,
    "start_time": "2022-10-12T06:34:27.248Z"
   },
   {
    "duration": 162,
    "start_time": "2022-10-12T06:34:27.485Z"
   },
   {
    "duration": 303,
    "start_time": "2022-10-12T06:34:27.650Z"
   },
   {
    "duration": 4,
    "start_time": "2022-10-12T06:34:27.955Z"
   },
   {
    "duration": 17,
    "start_time": "2022-10-12T06:34:27.960Z"
   },
   {
    "duration": 24,
    "start_time": "2022-10-12T06:34:27.978Z"
   },
   {
    "duration": 20,
    "start_time": "2022-10-12T06:34:28.004Z"
   },
   {
    "duration": 171,
    "start_time": "2022-10-12T06:34:28.026Z"
   },
   {
    "duration": 290,
    "start_time": "2022-10-12T06:34:28.199Z"
   },
   {
    "duration": 10,
    "start_time": "2022-10-12T06:34:28.490Z"
   },
   {
    "duration": 108,
    "start_time": "2022-10-12T06:34:28.501Z"
   },
   {
    "duration": 14,
    "start_time": "2022-10-12T06:34:28.611Z"
   },
   {
    "duration": 28,
    "start_time": "2022-10-12T06:34:28.626Z"
   },
   {
    "duration": 187,
    "start_time": "2022-10-12T06:34:28.655Z"
   },
   {
    "duration": 5,
    "start_time": "2022-10-12T06:34:28.843Z"
   },
   {
    "duration": 416,
    "start_time": "2022-10-12T06:34:28.849Z"
   },
   {
    "duration": 10,
    "start_time": "2022-10-12T06:34:29.267Z"
   },
   {
    "duration": 156,
    "start_time": "2022-10-12T06:34:29.279Z"
   },
   {
    "duration": 30,
    "start_time": "2022-10-12T06:34:29.436Z"
   },
   {
    "duration": 23,
    "start_time": "2022-10-12T06:34:29.468Z"
   },
   {
    "duration": 93,
    "start_time": "2022-10-12T06:37:44.565Z"
   },
   {
    "duration": 11,
    "start_time": "2022-10-12T06:37:58.684Z"
   },
   {
    "duration": 3,
    "start_time": "2022-10-12T06:38:26.120Z"
   },
   {
    "duration": 12,
    "start_time": "2022-10-12T06:38:26.504Z"
   },
   {
    "duration": 1107,
    "start_time": "2022-10-12T06:39:18.564Z"
   },
   {
    "duration": 3,
    "start_time": "2022-10-12T06:39:19.672Z"
   },
   {
    "duration": 29,
    "start_time": "2022-10-12T06:39:19.677Z"
   },
   {
    "duration": 14,
    "start_time": "2022-10-12T06:39:19.708Z"
   },
   {
    "duration": 45,
    "start_time": "2022-10-12T06:39:19.723Z"
   },
   {
    "duration": 3,
    "start_time": "2022-10-12T06:39:19.770Z"
   },
   {
    "duration": 12,
    "start_time": "2022-10-12T06:39:19.774Z"
   },
   {
    "duration": 7,
    "start_time": "2022-10-12T06:39:19.787Z"
   },
   {
    "duration": 6,
    "start_time": "2022-10-12T06:39:19.795Z"
   },
   {
    "duration": 92,
    "start_time": "2022-10-12T06:39:19.822Z"
   },
   {
    "duration": 0,
    "start_time": "2022-10-12T06:39:19.923Z"
   },
   {
    "duration": 0,
    "start_time": "2022-10-12T06:39:19.924Z"
   },
   {
    "duration": 0,
    "start_time": "2022-10-12T06:39:19.925Z"
   },
   {
    "duration": 0,
    "start_time": "2022-10-12T06:39:19.926Z"
   },
   {
    "duration": 0,
    "start_time": "2022-10-12T06:39:19.927Z"
   },
   {
    "duration": 0,
    "start_time": "2022-10-12T06:39:19.928Z"
   },
   {
    "duration": 0,
    "start_time": "2022-10-12T06:39:19.930Z"
   },
   {
    "duration": 0,
    "start_time": "2022-10-12T06:39:19.931Z"
   },
   {
    "duration": 0,
    "start_time": "2022-10-12T06:39:19.932Z"
   },
   {
    "duration": 0,
    "start_time": "2022-10-12T06:39:19.933Z"
   },
   {
    "duration": 0,
    "start_time": "2022-10-12T06:39:19.934Z"
   },
   {
    "duration": 0,
    "start_time": "2022-10-12T06:39:19.935Z"
   },
   {
    "duration": 0,
    "start_time": "2022-10-12T06:39:19.936Z"
   },
   {
    "duration": 1,
    "start_time": "2022-10-12T06:39:19.937Z"
   },
   {
    "duration": 0,
    "start_time": "2022-10-12T06:39:19.939Z"
   },
   {
    "duration": 0,
    "start_time": "2022-10-12T06:39:19.940Z"
   },
   {
    "duration": 0,
    "start_time": "2022-10-12T06:39:19.942Z"
   },
   {
    "duration": 0,
    "start_time": "2022-10-12T06:39:19.943Z"
   },
   {
    "duration": 0,
    "start_time": "2022-10-12T06:39:19.944Z"
   },
   {
    "duration": 0,
    "start_time": "2022-10-12T06:39:19.945Z"
   },
   {
    "duration": 0,
    "start_time": "2022-10-12T06:39:19.947Z"
   },
   {
    "duration": 0,
    "start_time": "2022-10-12T06:39:19.948Z"
   },
   {
    "duration": 0,
    "start_time": "2022-10-12T06:39:19.949Z"
   },
   {
    "duration": 0,
    "start_time": "2022-10-12T06:39:19.950Z"
   },
   {
    "duration": 0,
    "start_time": "2022-10-12T06:39:19.952Z"
   },
   {
    "duration": 0,
    "start_time": "2022-10-12T06:39:19.952Z"
   },
   {
    "duration": 0,
    "start_time": "2022-10-12T06:39:19.954Z"
   },
   {
    "duration": 0,
    "start_time": "2022-10-12T06:39:19.954Z"
   },
   {
    "duration": 0,
    "start_time": "2022-10-12T06:39:19.955Z"
   },
   {
    "duration": 0,
    "start_time": "2022-10-12T06:39:19.956Z"
   },
   {
    "duration": 0,
    "start_time": "2022-10-12T06:39:19.958Z"
   },
   {
    "duration": 0,
    "start_time": "2022-10-12T06:39:19.959Z"
   },
   {
    "duration": 0,
    "start_time": "2022-10-12T06:39:20.022Z"
   },
   {
    "duration": 0,
    "start_time": "2022-10-12T06:39:20.024Z"
   },
   {
    "duration": 0,
    "start_time": "2022-10-12T06:39:20.025Z"
   },
   {
    "duration": 1086,
    "start_time": "2022-10-12T06:40:00.594Z"
   },
   {
    "duration": 3,
    "start_time": "2022-10-12T06:40:01.681Z"
   },
   {
    "duration": 48,
    "start_time": "2022-10-12T06:40:01.685Z"
   },
   {
    "duration": 12,
    "start_time": "2022-10-12T06:40:01.735Z"
   },
   {
    "duration": 56,
    "start_time": "2022-10-12T06:40:01.748Z"
   },
   {
    "duration": 3,
    "start_time": "2022-10-12T06:40:01.806Z"
   },
   {
    "duration": 32,
    "start_time": "2022-10-12T06:40:01.811Z"
   },
   {
    "duration": 46,
    "start_time": "2022-10-12T06:40:01.844Z"
   },
   {
    "duration": 17,
    "start_time": "2022-10-12T06:40:01.892Z"
   },
   {
    "duration": 16,
    "start_time": "2022-10-12T06:40:01.912Z"
   },
   {
    "duration": 9,
    "start_time": "2022-10-12T06:40:01.930Z"
   },
   {
    "duration": 96,
    "start_time": "2022-10-12T06:40:01.941Z"
   },
   {
    "duration": 0,
    "start_time": "2022-10-12T06:40:02.039Z"
   },
   {
    "duration": 0,
    "start_time": "2022-10-12T06:40:02.040Z"
   },
   {
    "duration": 0,
    "start_time": "2022-10-12T06:40:02.041Z"
   },
   {
    "duration": 0,
    "start_time": "2022-10-12T06:40:02.043Z"
   },
   {
    "duration": 0,
    "start_time": "2022-10-12T06:40:02.044Z"
   },
   {
    "duration": 0,
    "start_time": "2022-10-12T06:40:02.045Z"
   },
   {
    "duration": 0,
    "start_time": "2022-10-12T06:40:02.046Z"
   },
   {
    "duration": 0,
    "start_time": "2022-10-12T06:40:02.047Z"
   },
   {
    "duration": 0,
    "start_time": "2022-10-12T06:40:02.048Z"
   },
   {
    "duration": 0,
    "start_time": "2022-10-12T06:40:02.049Z"
   },
   {
    "duration": 0,
    "start_time": "2022-10-12T06:40:02.050Z"
   },
   {
    "duration": 0,
    "start_time": "2022-10-12T06:40:02.051Z"
   },
   {
    "duration": 0,
    "start_time": "2022-10-12T06:40:02.052Z"
   },
   {
    "duration": 0,
    "start_time": "2022-10-12T06:40:02.053Z"
   },
   {
    "duration": 0,
    "start_time": "2022-10-12T06:40:02.054Z"
   },
   {
    "duration": 0,
    "start_time": "2022-10-12T06:40:02.055Z"
   },
   {
    "duration": 0,
    "start_time": "2022-10-12T06:40:02.056Z"
   },
   {
    "duration": 0,
    "start_time": "2022-10-12T06:40:02.057Z"
   },
   {
    "duration": 0,
    "start_time": "2022-10-12T06:40:02.058Z"
   },
   {
    "duration": 0,
    "start_time": "2022-10-12T06:40:02.059Z"
   },
   {
    "duration": 0,
    "start_time": "2022-10-12T06:40:02.061Z"
   },
   {
    "duration": 0,
    "start_time": "2022-10-12T06:40:02.061Z"
   },
   {
    "duration": 0,
    "start_time": "2022-10-12T06:40:02.062Z"
   },
   {
    "duration": 0,
    "start_time": "2022-10-12T06:40:02.064Z"
   },
   {
    "duration": 0,
    "start_time": "2022-10-12T06:40:02.065Z"
   },
   {
    "duration": 0,
    "start_time": "2022-10-12T06:40:02.066Z"
   },
   {
    "duration": 0,
    "start_time": "2022-10-12T06:40:02.067Z"
   },
   {
    "duration": 0,
    "start_time": "2022-10-12T06:40:02.068Z"
   },
   {
    "duration": 0,
    "start_time": "2022-10-12T06:40:02.069Z"
   },
   {
    "duration": 0,
    "start_time": "2022-10-12T06:40:02.070Z"
   },
   {
    "duration": 0,
    "start_time": "2022-10-12T06:40:02.123Z"
   },
   {
    "duration": 0,
    "start_time": "2022-10-12T06:40:02.124Z"
   },
   {
    "duration": 0,
    "start_time": "2022-10-12T06:40:02.126Z"
   },
   {
    "duration": 8,
    "start_time": "2022-10-12T06:40:32.617Z"
   },
   {
    "duration": 1063,
    "start_time": "2022-10-12T06:40:44.107Z"
   },
   {
    "duration": 3,
    "start_time": "2022-10-12T06:40:45.172Z"
   },
   {
    "duration": 45,
    "start_time": "2022-10-12T06:40:45.176Z"
   },
   {
    "duration": 13,
    "start_time": "2022-10-12T06:40:45.223Z"
   },
   {
    "duration": 53,
    "start_time": "2022-10-12T06:40:45.238Z"
   },
   {
    "duration": 3,
    "start_time": "2022-10-12T06:40:45.292Z"
   },
   {
    "duration": 35,
    "start_time": "2022-10-12T06:40:45.297Z"
   },
   {
    "duration": 27,
    "start_time": "2022-10-12T06:40:45.333Z"
   },
   {
    "duration": 14,
    "start_time": "2022-10-12T06:40:45.361Z"
   },
   {
    "duration": 44,
    "start_time": "2022-10-12T06:40:45.377Z"
   },
   {
    "duration": 25,
    "start_time": "2022-10-12T06:40:45.423Z"
   },
   {
    "duration": 41,
    "start_time": "2022-10-12T06:40:45.450Z"
   },
   {
    "duration": 43,
    "start_time": "2022-10-12T06:40:45.493Z"
   },
   {
    "duration": 7,
    "start_time": "2022-10-12T06:40:45.538Z"
   },
   {
    "duration": 18,
    "start_time": "2022-10-12T06:40:45.547Z"
   },
   {
    "duration": 18,
    "start_time": "2022-10-12T06:40:45.566Z"
   },
   {
    "duration": 11,
    "start_time": "2022-10-12T06:40:45.586Z"
   },
   {
    "duration": 26,
    "start_time": "2022-10-12T06:40:45.598Z"
   },
   {
    "duration": 23,
    "start_time": "2022-10-12T06:40:45.625Z"
   },
   {
    "duration": 23,
    "start_time": "2022-10-12T06:40:45.650Z"
   },
   {
    "duration": 24,
    "start_time": "2022-10-12T06:40:45.675Z"
   },
   {
    "duration": 29,
    "start_time": "2022-10-12T06:40:45.700Z"
   },
   {
    "duration": 38,
    "start_time": "2022-10-12T06:40:45.730Z"
   },
   {
    "duration": 28,
    "start_time": "2022-10-12T06:40:45.769Z"
   },
   {
    "duration": 285,
    "start_time": "2022-10-12T06:40:45.798Z"
   },
   {
    "duration": 229,
    "start_time": "2022-10-12T06:40:46.085Z"
   },
   {
    "duration": 157,
    "start_time": "2022-10-12T06:40:46.316Z"
   },
   {
    "duration": 254,
    "start_time": "2022-10-12T06:40:46.476Z"
   },
   {
    "duration": 4,
    "start_time": "2022-10-12T06:40:46.732Z"
   },
   {
    "duration": 54,
    "start_time": "2022-10-12T06:40:46.737Z"
   },
   {
    "duration": 42,
    "start_time": "2022-10-12T06:40:46.793Z"
   },
   {
    "duration": 37,
    "start_time": "2022-10-12T06:40:46.837Z"
   },
   {
    "duration": 187,
    "start_time": "2022-10-12T06:40:46.876Z"
   },
   {
    "duration": 268,
    "start_time": "2022-10-12T06:40:47.065Z"
   },
   {
    "duration": 11,
    "start_time": "2022-10-12T06:40:47.334Z"
   },
   {
    "duration": 115,
    "start_time": "2022-10-12T06:40:47.346Z"
   },
   {
    "duration": 5,
    "start_time": "2022-10-12T06:40:47.462Z"
   },
   {
    "duration": 40,
    "start_time": "2022-10-12T06:40:47.468Z"
   },
   {
    "duration": 132,
    "start_time": "2022-10-12T06:40:47.510Z"
   },
   {
    "duration": 5,
    "start_time": "2022-10-12T06:40:47.644Z"
   },
   {
    "duration": 409,
    "start_time": "2022-10-12T06:40:47.651Z"
   },
   {
    "duration": 10,
    "start_time": "2022-10-12T06:40:48.061Z"
   },
   {
    "duration": 152,
    "start_time": "2022-10-12T06:40:48.073Z"
   },
   {
    "duration": 36,
    "start_time": "2022-10-12T06:40:48.228Z"
   },
   {
    "duration": 16,
    "start_time": "2022-10-12T06:40:48.266Z"
   },
   {
    "duration": 242,
    "start_time": "2022-10-12T06:46:48.305Z"
   },
   {
    "duration": 164,
    "start_time": "2022-10-12T06:47:20.535Z"
   },
   {
    "duration": 194,
    "start_time": "2022-10-12T06:48:11.425Z"
   },
   {
    "duration": 145,
    "start_time": "2022-10-12T06:48:54.591Z"
   },
   {
    "duration": 3,
    "start_time": "2022-10-12T06:49:25.600Z"
   },
   {
    "duration": 256,
    "start_time": "2022-10-12T06:49:30.856Z"
   },
   {
    "duration": 269,
    "start_time": "2022-10-12T06:49:50.347Z"
   },
   {
    "duration": 157,
    "start_time": "2022-10-12T06:50:08.689Z"
   },
   {
    "duration": 198,
    "start_time": "2022-10-12T06:50:20.065Z"
   },
   {
    "duration": 151,
    "start_time": "2022-10-12T06:50:26.249Z"
   },
   {
    "duration": 148,
    "start_time": "2022-10-12T06:50:49.745Z"
   },
   {
    "duration": 155,
    "start_time": "2022-10-12T06:51:40.640Z"
   },
   {
    "duration": 141,
    "start_time": "2022-10-12T06:51:46.937Z"
   },
   {
    "duration": 244,
    "start_time": "2022-10-12T06:51:51.261Z"
   },
   {
    "duration": 167,
    "start_time": "2022-10-12T06:52:03.002Z"
   },
   {
    "duration": 174,
    "start_time": "2022-10-12T06:52:21.320Z"
   },
   {
    "duration": 168,
    "start_time": "2022-10-12T06:52:28.545Z"
   },
   {
    "duration": 216,
    "start_time": "2022-10-12T06:53:29.540Z"
   },
   {
    "duration": 164,
    "start_time": "2022-10-12T06:53:34.849Z"
   },
   {
    "duration": 147,
    "start_time": "2022-10-12T06:53:56.763Z"
   },
   {
    "duration": 142,
    "start_time": "2022-10-12T06:56:29.138Z"
   },
   {
    "duration": 50,
    "start_time": "2022-10-12T06:57:13.955Z"
   },
   {
    "duration": 40,
    "start_time": "2022-10-12T06:57:25.928Z"
   },
   {
    "duration": 187,
    "start_time": "2022-10-12T06:59:10.722Z"
   },
   {
    "duration": 249,
    "start_time": "2022-10-12T06:59:15.489Z"
   },
   {
    "duration": 150,
    "start_time": "2022-10-12T06:59:52.082Z"
   },
   {
    "duration": 248,
    "start_time": "2022-10-12T07:00:04.107Z"
   },
   {
    "duration": 249,
    "start_time": "2022-10-12T07:01:01.051Z"
   },
   {
    "duration": 168,
    "start_time": "2022-10-12T07:01:13.673Z"
   },
   {
    "duration": 214,
    "start_time": "2022-10-12T07:01:42.665Z"
   },
   {
    "duration": 210,
    "start_time": "2022-10-12T07:02:45.962Z"
   },
   {
    "duration": 210,
    "start_time": "2022-10-12T07:03:03.267Z"
   },
   {
    "duration": 205,
    "start_time": "2022-10-12T07:03:19.817Z"
   },
   {
    "duration": 136,
    "start_time": "2022-10-12T07:05:15.018Z"
   },
   {
    "duration": 337,
    "start_time": "2022-10-12T07:05:50.817Z"
   },
   {
    "duration": 320,
    "start_time": "2022-10-12T07:07:31.282Z"
   },
   {
    "duration": 200,
    "start_time": "2022-10-12T07:08:09.506Z"
   },
   {
    "duration": 213,
    "start_time": "2022-10-12T07:08:31.421Z"
   },
   {
    "duration": 320,
    "start_time": "2022-10-12T07:08:38.650Z"
   },
   {
    "duration": 209,
    "start_time": "2022-10-12T07:09:11.747Z"
   },
   {
    "duration": 305,
    "start_time": "2022-10-12T07:10:06.634Z"
   },
   {
    "duration": 289,
    "start_time": "2022-10-12T07:10:25.051Z"
   },
   {
    "duration": 300,
    "start_time": "2022-10-12T07:10:44.483Z"
   },
   {
    "duration": 274,
    "start_time": "2022-10-12T07:11:00.474Z"
   },
   {
    "duration": 355,
    "start_time": "2022-10-12T07:11:14.211Z"
   },
   {
    "duration": 289,
    "start_time": "2022-10-12T07:11:21.539Z"
   },
   {
    "duration": 128,
    "start_time": "2022-10-12T07:11:51.123Z"
   },
   {
    "duration": 181,
    "start_time": "2022-10-12T07:12:07.147Z"
   },
   {
    "duration": 162,
    "start_time": "2022-10-12T07:12:47.828Z"
   },
   {
    "duration": 233,
    "start_time": "2022-10-12T07:13:10.477Z"
   },
   {
    "duration": 219,
    "start_time": "2022-10-12T07:13:20.832Z"
   },
   {
    "duration": 270,
    "start_time": "2022-10-12T07:13:31.171Z"
   },
   {
    "duration": 187,
    "start_time": "2022-10-12T07:13:36.362Z"
   },
   {
    "duration": 201,
    "start_time": "2022-10-12T07:13:41.499Z"
   },
   {
    "duration": 208,
    "start_time": "2022-10-12T07:13:48.106Z"
   },
   {
    "duration": 225,
    "start_time": "2022-10-12T07:14:01.814Z"
   },
   {
    "duration": 328,
    "start_time": "2022-10-12T07:14:12.123Z"
   },
   {
    "duration": 165,
    "start_time": "2022-10-12T07:14:57.667Z"
   },
   {
    "duration": 200,
    "start_time": "2022-10-12T07:16:08.756Z"
   },
   {
    "duration": 182,
    "start_time": "2022-10-12T07:16:55.582Z"
   },
   {
    "duration": 258,
    "start_time": "2022-10-12T07:17:30.149Z"
   },
   {
    "duration": 159,
    "start_time": "2022-10-12T07:17:44.564Z"
   },
   {
    "duration": 172,
    "start_time": "2022-10-12T07:17:59.637Z"
   },
   {
    "duration": 162,
    "start_time": "2022-10-12T07:18:08.410Z"
   },
   {
    "duration": 165,
    "start_time": "2022-10-12T07:18:41.723Z"
   },
   {
    "duration": 208,
    "start_time": "2022-10-12T07:18:49.004Z"
   },
   {
    "duration": 314,
    "start_time": "2022-10-12T07:21:05.452Z"
   },
   {
    "duration": 159,
    "start_time": "2022-10-12T07:33:38.303Z"
   },
   {
    "duration": 139,
    "start_time": "2022-10-12T07:33:54.725Z"
   },
   {
    "duration": 11,
    "start_time": "2022-10-12T07:33:56.964Z"
   },
   {
    "duration": 139,
    "start_time": "2022-10-12T07:33:59.524Z"
   },
   {
    "duration": 45,
    "start_time": "2022-10-12T07:34:02.301Z"
   },
   {
    "duration": 27,
    "start_time": "2022-10-12T07:34:04.230Z"
   },
   {
    "duration": 150,
    "start_time": "2022-10-12T07:34:33.823Z"
   },
   {
    "duration": 100,
    "start_time": "2022-10-12T07:34:55.245Z"
   },
   {
    "duration": 139,
    "start_time": "2022-10-12T07:40:25.007Z"
   },
   {
    "duration": 29,
    "start_time": "2022-10-12T07:40:47.903Z"
   },
   {
    "duration": 18,
    "start_time": "2022-10-12T07:41:33.439Z"
   },
   {
    "duration": 19,
    "start_time": "2022-10-12T07:52:31.712Z"
   },
   {
    "duration": 1031,
    "start_time": "2022-10-12T07:59:57.419Z"
   },
   {
    "duration": 2,
    "start_time": "2022-10-12T07:59:58.452Z"
   },
   {
    "duration": 33,
    "start_time": "2022-10-12T07:59:58.456Z"
   },
   {
    "duration": 11,
    "start_time": "2022-10-12T07:59:58.491Z"
   },
   {
    "duration": 48,
    "start_time": "2022-10-12T07:59:58.503Z"
   },
   {
    "duration": 3,
    "start_time": "2022-10-12T07:59:58.553Z"
   },
   {
    "duration": 12,
    "start_time": "2022-10-12T07:59:58.557Z"
   },
   {
    "duration": 7,
    "start_time": "2022-10-12T07:59:58.571Z"
   },
   {
    "duration": 7,
    "start_time": "2022-10-12T07:59:58.579Z"
   },
   {
    "duration": 9,
    "start_time": "2022-10-12T07:59:58.588Z"
   },
   {
    "duration": 5,
    "start_time": "2022-10-12T07:59:58.598Z"
   },
   {
    "duration": 24,
    "start_time": "2022-10-12T07:59:58.604Z"
   },
   {
    "duration": 37,
    "start_time": "2022-10-12T07:59:58.629Z"
   },
   {
    "duration": 8,
    "start_time": "2022-10-12T07:59:58.668Z"
   },
   {
    "duration": 12,
    "start_time": "2022-10-12T07:59:58.677Z"
   },
   {
    "duration": 7,
    "start_time": "2022-10-12T07:59:58.691Z"
   },
   {
    "duration": 4,
    "start_time": "2022-10-12T07:59:58.700Z"
   },
   {
    "duration": 8,
    "start_time": "2022-10-12T07:59:58.706Z"
   },
   {
    "duration": 27,
    "start_time": "2022-10-12T07:59:58.715Z"
   },
   {
    "duration": 6,
    "start_time": "2022-10-12T07:59:58.744Z"
   },
   {
    "duration": 14,
    "start_time": "2022-10-12T07:59:58.751Z"
   },
   {
    "duration": 6,
    "start_time": "2022-10-12T07:59:58.767Z"
   },
   {
    "duration": 6,
    "start_time": "2022-10-12T07:59:58.774Z"
   },
   {
    "duration": 13,
    "start_time": "2022-10-12T07:59:58.781Z"
   },
   {
    "duration": 329,
    "start_time": "2022-10-12T07:59:58.796Z"
   },
   {
    "duration": 296,
    "start_time": "2022-10-12T07:59:59.127Z"
   },
   {
    "duration": 230,
    "start_time": "2022-10-12T07:59:59.425Z"
   },
   {
    "duration": 299,
    "start_time": "2022-10-12T07:59:59.659Z"
   },
   {
    "duration": 4,
    "start_time": "2022-10-12T07:59:59.959Z"
   },
   {
    "duration": 6,
    "start_time": "2022-10-12T07:59:59.965Z"
   },
   {
    "duration": 7,
    "start_time": "2022-10-12T07:59:59.973Z"
   },
   {
    "duration": 12,
    "start_time": "2022-10-12T07:59:59.982Z"
   },
   {
    "duration": 231,
    "start_time": "2022-10-12T07:59:59.996Z"
   },
   {
    "duration": 307,
    "start_time": "2022-10-12T08:00:00.229Z"
   },
   {
    "duration": 11,
    "start_time": "2022-10-12T08:00:00.538Z"
   },
   {
    "duration": 167,
    "start_time": "2022-10-12T08:00:00.551Z"
   },
   {
    "duration": 5,
    "start_time": "2022-10-12T08:00:00.721Z"
   },
   {
    "duration": 15,
    "start_time": "2022-10-12T08:00:00.727Z"
   },
   {
    "duration": 175,
    "start_time": "2022-10-12T08:00:00.744Z"
   },
   {
    "duration": 246,
    "start_time": "2022-10-12T08:00:00.922Z"
   },
   {
    "duration": 5,
    "start_time": "2022-10-12T08:00:01.170Z"
   },
   {
    "duration": 3511,
    "start_time": "2022-10-12T08:00:01.176Z"
   },
   {
    "duration": 0,
    "start_time": "2022-10-12T08:00:04.689Z"
   },
   {
    "duration": 0,
    "start_time": "2022-10-12T08:00:04.690Z"
   },
   {
    "duration": 0,
    "start_time": "2022-10-12T08:00:04.691Z"
   },
   {
    "duration": 0,
    "start_time": "2022-10-12T08:00:04.692Z"
   },
   {
    "duration": 1321,
    "start_time": "2022-10-12T08:01:41.967Z"
   },
   {
    "duration": 1640,
    "start_time": "2022-10-12T08:03:30.511Z"
   },
   {
    "duration": 1610,
    "start_time": "2022-10-12T08:03:49.927Z"
   },
   {
    "duration": 1243,
    "start_time": "2022-10-12T08:05:24.632Z"
   },
   {
    "duration": 2238,
    "start_time": "2022-10-12T08:07:05.593Z"
   },
   {
    "duration": 108,
    "start_time": "2022-10-12T08:08:33.297Z"
   },
   {
    "duration": 211,
    "start_time": "2022-10-12T08:09:04.491Z"
   },
   {
    "duration": 234,
    "start_time": "2022-10-12T08:11:30.930Z"
   },
   {
    "duration": 362,
    "start_time": "2022-10-12T08:11:45.079Z"
   },
   {
    "duration": 975,
    "start_time": "2022-10-12T08:13:21.387Z"
   },
   {
    "duration": 3,
    "start_time": "2022-10-12T08:13:22.364Z"
   },
   {
    "duration": 29,
    "start_time": "2022-10-12T08:13:22.369Z"
   },
   {
    "duration": 13,
    "start_time": "2022-10-12T08:13:22.400Z"
   },
   {
    "duration": 54,
    "start_time": "2022-10-12T08:13:22.414Z"
   },
   {
    "duration": 4,
    "start_time": "2022-10-12T08:13:22.470Z"
   },
   {
    "duration": 11,
    "start_time": "2022-10-12T08:13:22.475Z"
   },
   {
    "duration": 6,
    "start_time": "2022-10-12T08:13:22.488Z"
   },
   {
    "duration": 7,
    "start_time": "2022-10-12T08:13:22.495Z"
   },
   {
    "duration": 9,
    "start_time": "2022-10-12T08:13:22.521Z"
   },
   {
    "duration": 6,
    "start_time": "2022-10-12T08:13:22.532Z"
   },
   {
    "duration": 11,
    "start_time": "2022-10-12T08:13:22.539Z"
   },
   {
    "duration": 37,
    "start_time": "2022-10-12T08:13:22.552Z"
   },
   {
    "duration": 8,
    "start_time": "2022-10-12T08:13:22.590Z"
   },
   {
    "duration": 12,
    "start_time": "2022-10-12T08:13:22.599Z"
   },
   {
    "duration": 6,
    "start_time": "2022-10-12T08:13:22.612Z"
   },
   {
    "duration": 3,
    "start_time": "2022-10-12T08:13:22.622Z"
   },
   {
    "duration": 9,
    "start_time": "2022-10-12T08:13:22.626Z"
   },
   {
    "duration": 18,
    "start_time": "2022-10-12T08:13:22.637Z"
   },
   {
    "duration": 8,
    "start_time": "2022-10-12T08:13:22.656Z"
   },
   {
    "duration": 18,
    "start_time": "2022-10-12T08:13:22.666Z"
   },
   {
    "duration": 5,
    "start_time": "2022-10-12T08:13:22.686Z"
   },
   {
    "duration": 6,
    "start_time": "2022-10-12T08:13:22.693Z"
   },
   {
    "duration": 14,
    "start_time": "2022-10-12T08:13:22.700Z"
   },
   {
    "duration": 285,
    "start_time": "2022-10-12T08:13:22.715Z"
   },
   {
    "duration": 298,
    "start_time": "2022-10-12T08:13:23.002Z"
   },
   {
    "duration": 235,
    "start_time": "2022-10-12T08:13:23.303Z"
   },
   {
    "duration": 303,
    "start_time": "2022-10-12T08:13:23.543Z"
   },
   {
    "duration": 4,
    "start_time": "2022-10-12T08:13:23.847Z"
   },
   {
    "duration": 13,
    "start_time": "2022-10-12T08:13:23.853Z"
   },
   {
    "duration": 9,
    "start_time": "2022-10-12T08:13:23.867Z"
   },
   {
    "duration": 10,
    "start_time": "2022-10-12T08:13:23.877Z"
   },
   {
    "duration": 220,
    "start_time": "2022-10-12T08:13:23.888Z"
   },
   {
    "duration": 330,
    "start_time": "2022-10-12T08:13:24.110Z"
   },
   {
    "duration": 10,
    "start_time": "2022-10-12T08:13:24.441Z"
   },
   {
    "duration": 169,
    "start_time": "2022-10-12T08:13:24.453Z"
   },
   {
    "duration": 5,
    "start_time": "2022-10-12T08:13:24.624Z"
   },
   {
    "duration": 12,
    "start_time": "2022-10-12T08:13:24.631Z"
   },
   {
    "duration": 182,
    "start_time": "2022-10-12T08:13:24.644Z"
   },
   {
    "duration": 251,
    "start_time": "2022-10-12T08:13:24.829Z"
   },
   {
    "duration": 211,
    "start_time": "2022-10-12T08:13:45.306Z"
   },
   {
    "duration": 1067,
    "start_time": "2022-10-12T08:14:32.387Z"
   },
   {
    "duration": 2,
    "start_time": "2022-10-12T08:14:33.456Z"
   },
   {
    "duration": 33,
    "start_time": "2022-10-12T08:14:33.460Z"
   },
   {
    "duration": 11,
    "start_time": "2022-10-12T08:14:33.495Z"
   },
   {
    "duration": 46,
    "start_time": "2022-10-12T08:14:33.508Z"
   },
   {
    "duration": 3,
    "start_time": "2022-10-12T08:14:33.556Z"
   },
   {
    "duration": 12,
    "start_time": "2022-10-12T08:14:33.560Z"
   },
   {
    "duration": 12,
    "start_time": "2022-10-12T08:14:33.574Z"
   },
   {
    "duration": 9,
    "start_time": "2022-10-12T08:14:33.587Z"
   },
   {
    "duration": 11,
    "start_time": "2022-10-12T08:14:33.598Z"
   },
   {
    "duration": 19,
    "start_time": "2022-10-12T08:14:33.611Z"
   },
   {
    "duration": 14,
    "start_time": "2022-10-12T08:14:33.631Z"
   },
   {
    "duration": 41,
    "start_time": "2022-10-12T08:14:33.646Z"
   },
   {
    "duration": 6,
    "start_time": "2022-10-12T08:14:33.689Z"
   },
   {
    "duration": 14,
    "start_time": "2022-10-12T08:14:33.696Z"
   },
   {
    "duration": 13,
    "start_time": "2022-10-12T08:14:33.712Z"
   },
   {
    "duration": 14,
    "start_time": "2022-10-12T08:14:33.726Z"
   },
   {
    "duration": 9,
    "start_time": "2022-10-12T08:14:33.741Z"
   },
   {
    "duration": 19,
    "start_time": "2022-10-12T08:14:33.752Z"
   },
   {
    "duration": 6,
    "start_time": "2022-10-12T08:14:33.773Z"
   },
   {
    "duration": 12,
    "start_time": "2022-10-12T08:14:33.781Z"
   },
   {
    "duration": 14,
    "start_time": "2022-10-12T08:14:33.795Z"
   },
   {
    "duration": 6,
    "start_time": "2022-10-12T08:14:33.811Z"
   },
   {
    "duration": 18,
    "start_time": "2022-10-12T08:14:33.818Z"
   },
   {
    "duration": 279,
    "start_time": "2022-10-12T08:14:33.837Z"
   },
   {
    "duration": 313,
    "start_time": "2022-10-12T08:14:34.118Z"
   },
   {
    "duration": 228,
    "start_time": "2022-10-12T08:14:34.432Z"
   },
   {
    "duration": 285,
    "start_time": "2022-10-12T08:14:34.663Z"
   },
   {
    "duration": 4,
    "start_time": "2022-10-12T08:14:34.950Z"
   },
   {
    "duration": 7,
    "start_time": "2022-10-12T08:14:34.957Z"
   },
   {
    "duration": 6,
    "start_time": "2022-10-12T08:14:34.966Z"
   },
   {
    "duration": 5,
    "start_time": "2022-10-12T08:14:34.974Z"
   },
   {
    "duration": 260,
    "start_time": "2022-10-12T08:14:34.981Z"
   },
   {
    "duration": 308,
    "start_time": "2022-10-12T08:14:35.243Z"
   },
   {
    "duration": 10,
    "start_time": "2022-10-12T08:14:35.553Z"
   },
   {
    "duration": 183,
    "start_time": "2022-10-12T08:14:35.564Z"
   },
   {
    "duration": 6,
    "start_time": "2022-10-12T08:14:35.749Z"
   },
   {
    "duration": 26,
    "start_time": "2022-10-12T08:14:35.757Z"
   },
   {
    "duration": 192,
    "start_time": "2022-10-12T08:14:35.785Z"
   },
   {
    "duration": 258,
    "start_time": "2022-10-12T08:14:35.978Z"
   },
   {
    "duration": 5,
    "start_time": "2022-10-12T08:14:36.237Z"
   },
   {
    "duration": 221,
    "start_time": "2022-10-12T08:14:36.243Z"
   },
   {
    "duration": 11,
    "start_time": "2022-10-12T08:14:36.465Z"
   },
   {
    "duration": 167,
    "start_time": "2022-10-12T08:14:36.478Z"
   },
   {
    "duration": 31,
    "start_time": "2022-10-12T08:14:36.646Z"
   },
   {
    "duration": 18,
    "start_time": "2022-10-12T08:14:36.679Z"
   },
   {
    "duration": 18,
    "start_time": "2022-10-12T08:15:32.719Z"
   },
   {
    "duration": 46,
    "start_time": "2022-10-12T09:22:04.212Z"
   },
   {
    "duration": 1248,
    "start_time": "2022-10-12T09:22:14.189Z"
   },
   {
    "duration": 3,
    "start_time": "2022-10-12T09:22:15.439Z"
   },
   {
    "duration": 80,
    "start_time": "2022-10-12T09:22:15.443Z"
   },
   {
    "duration": 12,
    "start_time": "2022-10-12T09:22:15.525Z"
   },
   {
    "duration": 46,
    "start_time": "2022-10-12T09:22:15.538Z"
   },
   {
    "duration": 2,
    "start_time": "2022-10-12T09:22:15.586Z"
   },
   {
    "duration": 14,
    "start_time": "2022-10-12T09:22:15.590Z"
   },
   {
    "duration": 7,
    "start_time": "2022-10-12T09:22:15.605Z"
   },
   {
    "duration": 6,
    "start_time": "2022-10-12T09:22:15.614Z"
   },
   {
    "duration": 8,
    "start_time": "2022-10-12T09:22:15.622Z"
   },
   {
    "duration": 6,
    "start_time": "2022-10-12T09:22:15.632Z"
   },
   {
    "duration": 11,
    "start_time": "2022-10-12T09:22:15.640Z"
   },
   {
    "duration": 98,
    "start_time": "2022-10-12T09:22:15.652Z"
   },
   {
    "duration": 8,
    "start_time": "2022-10-12T09:22:15.825Z"
   },
   {
    "duration": 12,
    "start_time": "2022-10-12T09:22:15.835Z"
   },
   {
    "duration": 6,
    "start_time": "2022-10-12T09:22:15.849Z"
   },
   {
    "duration": 7,
    "start_time": "2022-10-12T09:22:15.857Z"
   },
   {
    "duration": 5,
    "start_time": "2022-10-12T09:22:16.325Z"
   },
   {
    "duration": 64,
    "start_time": "2022-10-12T09:22:16.332Z"
   },
   {
    "duration": 8,
    "start_time": "2022-10-12T09:22:16.397Z"
   },
   {
    "duration": 15,
    "start_time": "2022-10-12T09:22:16.407Z"
   },
   {
    "duration": 6,
    "start_time": "2022-10-12T09:22:16.423Z"
   },
   {
    "duration": 8,
    "start_time": "2022-10-12T09:22:16.431Z"
   },
   {
    "duration": 12,
    "start_time": "2022-10-12T09:22:16.502Z"
   },
   {
    "duration": 355,
    "start_time": "2022-10-12T09:22:16.517Z"
   },
   {
    "duration": 336,
    "start_time": "2022-10-12T09:22:16.873Z"
   },
   {
    "duration": 237,
    "start_time": "2022-10-12T09:22:17.210Z"
   },
   {
    "duration": 401,
    "start_time": "2022-10-12T09:22:17.448Z"
   },
   {
    "duration": 5,
    "start_time": "2022-10-12T09:22:17.851Z"
   },
   {
    "duration": 8,
    "start_time": "2022-10-12T09:22:17.857Z"
   },
   {
    "duration": 6,
    "start_time": "2022-10-12T09:22:17.867Z"
   },
   {
    "duration": 4,
    "start_time": "2022-10-12T09:22:17.895Z"
   },
   {
    "duration": 259,
    "start_time": "2022-10-12T09:22:17.900Z"
   },
   {
    "duration": 348,
    "start_time": "2022-10-12T09:22:18.160Z"
   },
   {
    "duration": 11,
    "start_time": "2022-10-12T09:22:18.509Z"
   },
   {
    "duration": 173,
    "start_time": "2022-10-12T09:22:18.522Z"
   },
   {
    "duration": 5,
    "start_time": "2022-10-12T09:22:18.697Z"
   },
   {
    "duration": 15,
    "start_time": "2022-10-12T09:22:18.704Z"
   },
   {
    "duration": 276,
    "start_time": "2022-10-12T09:22:18.720Z"
   },
   {
    "duration": 189,
    "start_time": "2022-10-12T09:22:18.998Z"
   },
   {
    "duration": 6,
    "start_time": "2022-10-12T09:22:19.189Z"
   },
   {
    "duration": 233,
    "start_time": "2022-10-12T09:22:19.197Z"
   },
   {
    "duration": 10,
    "start_time": "2022-10-12T09:22:19.432Z"
   },
   {
    "duration": 143,
    "start_time": "2022-10-12T09:22:19.443Z"
   },
   {
    "duration": 9,
    "start_time": "2022-10-12T09:22:19.588Z"
   },
   {
    "duration": 28,
    "start_time": "2022-10-12T09:22:19.599Z"
   },
   {
    "duration": 17,
    "start_time": "2022-10-12T09:22:19.630Z"
   },
   {
    "duration": 4,
    "start_time": "2022-10-12T09:22:53.560Z"
   }
  ],
  "kernelspec": {
   "display_name": "Python 3 (ipykernel)",
   "language": "python",
   "name": "python3"
  },
  "language_info": {
   "codemirror_mode": {
    "name": "ipython",
    "version": 3
   },
   "file_extension": ".py",
   "mimetype": "text/x-python",
   "name": "python",
   "nbconvert_exporter": "python",
   "pygments_lexer": "ipython3",
   "version": "3.11.1"
  },
  "toc": {
   "base_numbering": 1,
   "nav_menu": {},
   "number_sections": true,
   "sideBar": true,
   "skip_h1_title": true,
   "title_cell": "Table of Contents",
   "title_sidebar": "Contents",
   "toc_cell": false,
   "toc_position": {},
   "toc_section_display": true,
   "toc_window_display": false
  }
 },
 "nbformat": 4,
 "nbformat_minor": 2
}
